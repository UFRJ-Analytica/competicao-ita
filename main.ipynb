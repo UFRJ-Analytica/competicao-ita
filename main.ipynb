{
 "cells": [
  {
   "cell_type": "code",
   "execution_count": 150,
   "metadata": {},
   "outputs": [],
   "source": [
    "import pandas as pd\n",
    "import plotly.express as px\n",
    "import re\n",
    "from datetime import datetime, timedelta, fromtimestamp\n",
    "import numpy as np"
   ]
  },
  {
   "cell_type": "code",
   "execution_count": 151,
   "metadata": {},
   "outputs": [],
   "source": [
    "df = pd.read_csv('idsc_test.csv')"
   ]
  },
  {
   "cell_type": "code",
   "execution_count": 152,
   "metadata": {},
   "outputs": [],
   "source": [
    "rota = df['snapshot_radar'].head(1).values[0]\n",
    "\n",
    "# Usando expressão regular para encontrar as coordenadas\n",
    "coordenadas = re.findall(r'-?\\d+\\.\\d+', rota)\n",
    "\n",
    "# Dividir as coordenadas em pares de longitude e latitude\n",
    "pares = [(float(coordenadas[i]), float(coordenadas[i+1])) for i in range(0, len(coordenadas), 2)]\n",
    "\n",
    "map = pd.DataFrame(pares, columns=['Latitude', 'Longitude'])"
   ]
  },
  {
   "cell_type": "code",
   "execution_count": 158,
   "metadata": {},
   "outputs": [
    {
     "data": {
      "text/html": [
       "<div>\n",
       "<style scoped>\n",
       "    .dataframe tbody tr th:only-of-type {\n",
       "        vertical-align: middle;\n",
       "    }\n",
       "\n",
       "    .dataframe tbody tr th {\n",
       "        vertical-align: top;\n",
       "    }\n",
       "\n",
       "    .dataframe thead th {\n",
       "        text-align: right;\n",
       "    }\n",
       "</style>\n",
       "<table border=\"1\" class=\"dataframe\">\n",
       "  <thead>\n",
       "    <tr style=\"text-align: right;\">\n",
       "      <th></th>\n",
       "      <th>0</th>\n",
       "    </tr>\n",
       "  </thead>\n",
       "  <tbody>\n",
       "    <tr>\n",
       "      <th>flightid</th>\n",
       "      <td>7945735584a3297121c4f5ae0de8ecd1</td>\n",
       "    </tr>\n",
       "    <tr>\n",
       "      <th>origem</th>\n",
       "      <td>SBKP</td>\n",
       "    </tr>\n",
       "    <tr>\n",
       "      <th>destino</th>\n",
       "      <td>SBSV</td>\n",
       "    </tr>\n",
       "    <tr>\n",
       "      <th>dt_dep</th>\n",
       "      <td>1685446563</td>\n",
       "    </tr>\n",
       "    <tr>\n",
       "      <th>hora_ref</th>\n",
       "      <td>1685444400</td>\n",
       "    </tr>\n",
       "    <tr>\n",
       "      <th>snapshot_radar</th>\n",
       "      <td>MULTIPOINT ((-0.8807200448127578 -0.5148453155...</td>\n",
       "    </tr>\n",
       "    <tr>\n",
       "      <th>path</th>\n",
       "      <td>http://satelite.cptec.inpe.br/repositoriogoes/...</td>\n",
       "    </tr>\n",
       "    <tr>\n",
       "      <th>hora_esperas</th>\n",
       "      <td>1685440800</td>\n",
       "    </tr>\n",
       "    <tr>\n",
       "      <th>esperas</th>\n",
       "      <td>0</td>\n",
       "    </tr>\n",
       "    <tr>\n",
       "      <th>aero_esperas</th>\n",
       "      <td>SBSV</td>\n",
       "    </tr>\n",
       "    <tr>\n",
       "      <th>hora_metaf</th>\n",
       "      <td>1685448000</td>\n",
       "    </tr>\n",
       "    <tr>\n",
       "      <th>metaf</th>\n",
       "      <td>METAR SBSV 301100Z 12009KT 9999 FEW023 28/21 Q...</td>\n",
       "    </tr>\n",
       "    <tr>\n",
       "      <th>aero_metaf</th>\n",
       "      <td>SBSV</td>\n",
       "    </tr>\n",
       "    <tr>\n",
       "      <th>hora_metar</th>\n",
       "      <td>1685444400</td>\n",
       "    </tr>\n",
       "    <tr>\n",
       "      <th>metar</th>\n",
       "      <td>METAR SBSV 301100Z 12009KT 9999 FEW023 28/21 Q...</td>\n",
       "    </tr>\n",
       "    <tr>\n",
       "      <th>aero_metar</th>\n",
       "      <td>SBSV</td>\n",
       "    </tr>\n",
       "    <tr>\n",
       "      <th>hora_tcp</th>\n",
       "      <td>1685448000</td>\n",
       "    </tr>\n",
       "    <tr>\n",
       "      <th>troca</th>\n",
       "      <td>0</td>\n",
       "    </tr>\n",
       "    <tr>\n",
       "      <th>aero_tcp</th>\n",
       "      <td>SBSV</td>\n",
       "    </tr>\n",
       "    <tr>\n",
       "      <th>hora_tcr</th>\n",
       "      <td>NaN</td>\n",
       "    </tr>\n",
       "    <tr>\n",
       "      <th>aero_tcr</th>\n",
       "      <td>NaN</td>\n",
       "    </tr>\n",
       "  </tbody>\n",
       "</table>\n",
       "</div>"
      ],
      "text/plain": [
       "                                                                0\n",
       "flightid                         7945735584a3297121c4f5ae0de8ecd1\n",
       "origem                                                       SBKP\n",
       "destino                                                      SBSV\n",
       "dt_dep                                                 1685446563\n",
       "hora_ref                                               1685444400\n",
       "snapshot_radar  MULTIPOINT ((-0.8807200448127578 -0.5148453155...\n",
       "path            http://satelite.cptec.inpe.br/repositoriogoes/...\n",
       "hora_esperas                                           1685440800\n",
       "esperas                                                         0\n",
       "aero_esperas                                                 SBSV\n",
       "hora_metaf                                             1685448000\n",
       "metaf           METAR SBSV 301100Z 12009KT 9999 FEW023 28/21 Q...\n",
       "aero_metaf                                                   SBSV\n",
       "hora_metar                                             1685444400\n",
       "metar           METAR SBSV 301100Z 12009KT 9999 FEW023 28/21 Q...\n",
       "aero_metar                                                   SBSV\n",
       "hora_tcp                                               1685448000\n",
       "troca                                                           0\n",
       "aero_tcp                                                     SBSV\n",
       "hora_tcr                                                      NaN\n",
       "aero_tcr                                                      NaN"
      ]
     },
     "execution_count": 158,
     "metadata": {},
     "output_type": "execute_result"
    }
   ],
   "source": [
    "df.head(1).T"
   ]
  },
  {
   "cell_type": "code",
   "execution_count": 155,
   "metadata": {},
   "outputs": [],
   "source": [
    "colunas = ['dt_dep', 'hora_ref', 'hora_esperas', 'hora_metar', 'hora_metaf', 'hora_tcp']\n",
    "for name in colunas:\n",
    "    df[name] = pd.to_datetime(df[name])"
   ]
  },
  {
   "cell_type": "code",
   "execution_count": 156,
   "metadata": {},
   "outputs": [],
   "source": [
    "null_indices = df.index[df['hora_metaf'].isna()]\n",
    "\n",
    "df.loc[null_indices, 'hora_metaf'] = df.loc[null_indices, 'hora_metar'] + timedelta(hours=1)\n",
    "df.loc[null_indices, 'metaf'] = df.loc[null_indices, 'metar']\n",
    "df.loc[null_indices, 'aero_metaf'] = df.loc[null_indices, 'aero_metar']"
   ]
  },
  {
   "cell_type": "code",
   "execution_count": 157,
   "metadata": {},
   "outputs": [],
   "source": [
    "for name in colunas:\n",
    "    df[name] = df[name].apply(lambda x : x.timestamp()).astype(int)"
   ]
  },
  {
   "cell_type": "code",
   "execution_count": 141,
   "metadata": {},
   "outputs": [],
   "source": [
    "# df.apply(lambda row: row['hora_metar'] + timedelta(days=1) if pd.isna(row['hora_metaf']) else row['hora_metaf'], axis=1)"
   ]
  },
  {
   "cell_type": "code",
   "execution_count": 214,
   "metadata": {},
   "outputs": [],
   "source": [
    "def convert(timestamp):\n",
    "    data_hora = datetime.datetime.fromtimestamp(timestamp/1000)\n",
    "    return data_hora.strftime('%d/%m/%Y %H:%M:%S')"
   ]
  },
  {
   "cell_type": "code",
   "execution_count": 229,
   "metadata": {},
   "outputs": [],
   "source": [
    "bimtra = pd.read_csv('Dados/bimtra.csv')"
   ]
  },
  {
   "cell_type": "code",
   "execution_count": 226,
   "metadata": {},
   "outputs": [
    {
     "name": "stdout",
     "output_type": "stream",
     "text": [
      "<class 'pandas.core.frame.DataFrame'>\n",
      "RangeIndex: 300347 entries, 0 to 300346\n",
      "Data columns (total 5 columns):\n",
      " #   Column    Non-Null Count   Dtype \n",
      "---  ------    --------------   ----- \n",
      " 0   flightid  300347 non-null  object\n",
      " 1   origem    300347 non-null  object\n",
      " 2   destino   300347 non-null  object\n",
      " 3   dt_dep    300347 non-null  int64 \n",
      " 4   dt_arr    300347 non-null  int64 \n",
      "dtypes: int64(2), object(3)\n",
      "memory usage: 11.5+ MB\n"
     ]
    }
   ],
   "source": [
    "bimtra.info()"
   ]
  },
  {
   "cell_type": "code",
   "execution_count": 230,
   "metadata": {},
   "outputs": [],
   "source": [
    "bimtra['dt_dep'] = bimtra['dt_dep'].apply(convert)\n",
    "bimtra['dt_arr'] = bimtra['dt_arr'].apply(convert)"
   ]
  },
  {
   "cell_type": "code",
   "execution_count": 231,
   "metadata": {},
   "outputs": [],
   "source": [
    "bimtra['dt_dep'] = pd.to_datetime(bimtra['dt_dep'],format='%d/%m/%Y %H:%M:%S')\n",
    "bimtra['dt_arr'] = pd.to_datetime(bimtra['dt_arr'],format='%d/%m/%Y %H:%M:%S')"
   ]
  },
  {
   "cell_type": "code",
   "execution_count": 232,
   "metadata": {},
   "outputs": [
    {
     "name": "stdout",
     "output_type": "stream",
     "text": [
      "<class 'pandas.core.frame.DataFrame'>\n",
      "RangeIndex: 300347 entries, 0 to 300346\n",
      "Data columns (total 5 columns):\n",
      " #   Column    Non-Null Count   Dtype         \n",
      "---  ------    --------------   -----         \n",
      " 0   flightid  300347 non-null  object        \n",
      " 1   origem    300347 non-null  object        \n",
      " 2   destino   300347 non-null  object        \n",
      " 3   dt_dep    300347 non-null  datetime64[ns]\n",
      " 4   dt_arr    300347 non-null  datetime64[ns]\n",
      "dtypes: datetime64[ns](2), object(3)\n",
      "memory usage: 11.5+ MB\n"
     ]
    }
   ],
   "source": [
    "bimtra.info()"
   ]
  },
  {
   "cell_type": "code",
   "execution_count": 234,
   "metadata": {},
   "outputs": [],
   "source": [
    "bimtra['hora_ref'] = bimtra['dt_dep'].dt.floor('H')"
   ]
  },
  {
   "cell_type": "code",
   "execution_count": 235,
   "metadata": {},
   "outputs": [
    {
     "data": {
      "text/html": [
       "<div>\n",
       "<style scoped>\n",
       "    .dataframe tbody tr th:only-of-type {\n",
       "        vertical-align: middle;\n",
       "    }\n",
       "\n",
       "    .dataframe tbody tr th {\n",
       "        vertical-align: top;\n",
       "    }\n",
       "\n",
       "    .dataframe thead th {\n",
       "        text-align: right;\n",
       "    }\n",
       "</style>\n",
       "<table border=\"1\" class=\"dataframe\">\n",
       "  <thead>\n",
       "    <tr style=\"text-align: right;\">\n",
       "      <th></th>\n",
       "      <th>flightid</th>\n",
       "      <th>origem</th>\n",
       "      <th>destino</th>\n",
       "      <th>dt_dep</th>\n",
       "      <th>dt_arr</th>\n",
       "      <th>hora_ref</th>\n",
       "    </tr>\n",
       "  </thead>\n",
       "  <tbody>\n",
       "    <tr>\n",
       "      <th>0</th>\n",
       "      <td>fcb2bf90345705318213ae1307c0f901</td>\n",
       "      <td>SBKP</td>\n",
       "      <td>SBRJ</td>\n",
       "      <td>2022-05-31 21:44:57</td>\n",
       "      <td>2022-05-31 22:26:00</td>\n",
       "      <td>2022-05-31 21:00:00</td>\n",
       "    </tr>\n",
       "    <tr>\n",
       "      <th>1</th>\n",
       "      <td>c7c5c10716335b048f86d8c52fcba3f2</td>\n",
       "      <td>SBGR</td>\n",
       "      <td>SBRJ</td>\n",
       "      <td>2022-05-31 21:57:01</td>\n",
       "      <td>2022-05-31 22:32:53</td>\n",
       "      <td>2022-05-31 21:00:00</td>\n",
       "    </tr>\n",
       "    <tr>\n",
       "      <th>2</th>\n",
       "      <td>3162de7203a972f071d5a48e8f0f4828</td>\n",
       "      <td>SBBR</td>\n",
       "      <td>SBRJ</td>\n",
       "      <td>2022-05-31 21:26:52</td>\n",
       "      <td>2022-05-31 22:43:45</td>\n",
       "      <td>2022-05-31 21:00:00</td>\n",
       "    </tr>\n",
       "    <tr>\n",
       "      <th>3</th>\n",
       "      <td>8fcd243e9b9eebbe62ab145ce04b6ab5</td>\n",
       "      <td>SBKP</td>\n",
       "      <td>SBCF</td>\n",
       "      <td>2022-05-31 21:58:40</td>\n",
       "      <td>2022-05-31 22:41:41</td>\n",
       "      <td>2022-05-31 21:00:00</td>\n",
       "    </tr>\n",
       "    <tr>\n",
       "      <th>4</th>\n",
       "      <td>504a62621cd231d6ab67e674ce538cd3</td>\n",
       "      <td>SBCF</td>\n",
       "      <td>SBFL</td>\n",
       "      <td>2022-05-31 22:00:38</td>\n",
       "      <td>2022-05-31 23:33:05</td>\n",
       "      <td>2022-05-31 22:00:00</td>\n",
       "    </tr>\n",
       "    <tr>\n",
       "      <th>...</th>\n",
       "      <td>...</td>\n",
       "      <td>...</td>\n",
       "      <td>...</td>\n",
       "      <td>...</td>\n",
       "      <td>...</td>\n",
       "      <td>...</td>\n",
       "    </tr>\n",
       "    <tr>\n",
       "      <th>300342</th>\n",
       "      <td>c4321a6a09b76969df53965fb5390f12</td>\n",
       "      <td>SBBR</td>\n",
       "      <td>SBRF</td>\n",
       "      <td>2023-05-13 09:14:19</td>\n",
       "      <td>2023-05-13 11:20:23</td>\n",
       "      <td>2023-05-13 09:00:00</td>\n",
       "    </tr>\n",
       "    <tr>\n",
       "      <th>300343</th>\n",
       "      <td>e4f5686cce45083566945c8946e5d120</td>\n",
       "      <td>SBBR</td>\n",
       "      <td>SBGR</td>\n",
       "      <td>2023-05-13 06:33:15</td>\n",
       "      <td>2023-05-13 07:58:41</td>\n",
       "      <td>2023-05-13 06:00:00</td>\n",
       "    </tr>\n",
       "    <tr>\n",
       "      <th>300344</th>\n",
       "      <td>04f65a7c44cf176215520b4c9b4eb37f</td>\n",
       "      <td>SBCF</td>\n",
       "      <td>SBRF</td>\n",
       "      <td>2023-05-13 13:53:53</td>\n",
       "      <td>2023-05-13 16:00:24</td>\n",
       "      <td>2023-05-13 13:00:00</td>\n",
       "    </tr>\n",
       "    <tr>\n",
       "      <th>300345</th>\n",
       "      <td>f72a0718e581d01c695faeeff35d81f0</td>\n",
       "      <td>SBSV</td>\n",
       "      <td>SBGR</td>\n",
       "      <td>2023-05-13 02:28:58</td>\n",
       "      <td>2023-05-13 04:54:41</td>\n",
       "      <td>2023-05-13 02:00:00</td>\n",
       "    </tr>\n",
       "    <tr>\n",
       "      <th>300346</th>\n",
       "      <td>f00b0016f0bd79eabb4201a32490bc19</td>\n",
       "      <td>SBGL</td>\n",
       "      <td>SBGR</td>\n",
       "      <td>2023-05-13 06:22:30</td>\n",
       "      <td>2023-05-13 07:09:24</td>\n",
       "      <td>2023-05-13 06:00:00</td>\n",
       "    </tr>\n",
       "  </tbody>\n",
       "</table>\n",
       "<p>300347 rows × 6 columns</p>\n",
       "</div>"
      ],
      "text/plain": [
       "                                flightid origem destino              dt_dep  \\\n",
       "0       fcb2bf90345705318213ae1307c0f901   SBKP    SBRJ 2022-05-31 21:44:57   \n",
       "1       c7c5c10716335b048f86d8c52fcba3f2   SBGR    SBRJ 2022-05-31 21:57:01   \n",
       "2       3162de7203a972f071d5a48e8f0f4828   SBBR    SBRJ 2022-05-31 21:26:52   \n",
       "3       8fcd243e9b9eebbe62ab145ce04b6ab5   SBKP    SBCF 2022-05-31 21:58:40   \n",
       "4       504a62621cd231d6ab67e674ce538cd3   SBCF    SBFL 2022-05-31 22:00:38   \n",
       "...                                  ...    ...     ...                 ...   \n",
       "300342  c4321a6a09b76969df53965fb5390f12   SBBR    SBRF 2023-05-13 09:14:19   \n",
       "300343  e4f5686cce45083566945c8946e5d120   SBBR    SBGR 2023-05-13 06:33:15   \n",
       "300344  04f65a7c44cf176215520b4c9b4eb37f   SBCF    SBRF 2023-05-13 13:53:53   \n",
       "300345  f72a0718e581d01c695faeeff35d81f0   SBSV    SBGR 2023-05-13 02:28:58   \n",
       "300346  f00b0016f0bd79eabb4201a32490bc19   SBGL    SBGR 2023-05-13 06:22:30   \n",
       "\n",
       "                    dt_arr            hora_ref  \n",
       "0      2022-05-31 22:26:00 2022-05-31 21:00:00  \n",
       "1      2022-05-31 22:32:53 2022-05-31 21:00:00  \n",
       "2      2022-05-31 22:43:45 2022-05-31 21:00:00  \n",
       "3      2022-05-31 22:41:41 2022-05-31 21:00:00  \n",
       "4      2022-05-31 23:33:05 2022-05-31 22:00:00  \n",
       "...                    ...                 ...  \n",
       "300342 2023-05-13 11:20:23 2023-05-13 09:00:00  \n",
       "300343 2023-05-13 07:58:41 2023-05-13 06:00:00  \n",
       "300344 2023-05-13 16:00:24 2023-05-13 13:00:00  \n",
       "300345 2023-05-13 04:54:41 2023-05-13 02:00:00  \n",
       "300346 2023-05-13 07:09:24 2023-05-13 06:00:00  \n",
       "\n",
       "[300347 rows x 6 columns]"
      ]
     },
     "execution_count": 235,
     "metadata": {},
     "output_type": "execute_result"
    }
   ],
   "source": [
    "bimtra"
   ]
  },
  {
   "cell_type": "code",
   "execution_count": 237,
   "metadata": {},
   "outputs": [
    {
     "name": "stdout",
     "output_type": "stream",
     "text": [
      "station: KEWR\n",
      "type: routine report, cycle 19 (automatic report)\n",
      "time: Mon Sep 11 18:51:00 2023\n",
      "temperature: 22.7 C\n",
      "dew point: 21.5 C\n",
      "wind: variable at 3 knots, gusting to 19 knots\n",
      "peak wind: WNW at 28 knots at 18:17\n",
      "wind shift: 18:12\n",
      "visibility: 2 miles\n",
      "visual range: on runway 04R, from 3000 to greater than 6000 feet\n",
      "pressure: 1011.5 mb\n",
      "weather: thunderstorm with rain; mist\n",
      "sky: a few clouds at 1500 feet\n",
      "     broken cumulonimbus at 4000 feet\n",
      "     broken clouds at 6500 feet\n",
      "     overcast at 20000 feet\n",
      "sea-level pressure: 1011.4 mb\n",
      "1-hour precipitation: 0.13in\n",
      "remarks:\n",
      "- Automated station (type 2)\n",
      "- peak wind 28kt from 290 degrees at 18:17\n",
      "- wind shift at 18:12\n",
      "- frequent lightning (intracloud,cloud-to-cloud,cloud-to-ground)\n",
      "- thunderstorm overhead and NW\n",
      "- TSB05RAB22 -N-E MOV NE\n",
      "METAR: METAR KEWR 111851Z VRB03G19KT 2SM R04R/3000VP6000FT TSRA BR FEW015 BKN040CB BKN065 OVC200 22/22 A2987 RMK AO2 PK WND 29028/1817 WSHFT 1812 TSB05RAB22 SLP114 FRQ LTGICCCCG TS OHD AND NW -N-E MOV NE P0013 T02270215\n"
     ]
    }
   ],
   "source": [
    "from metar import Metar\n",
    "obs = Metar.Metar('METAR KEWR 111851Z VRB03G19KT 2SM R04R/3000VP6000FT TSRA BR FEW015 BKN040CB BKN065 OVC200 22/22 A2987 RMK AO2 PK WND 29028/1817 WSHFT 1812 TSB05RAB22 SLP114 FRQ LTGICCCCG TS OHD AND NW -N-E MOV NE P0013 T02270215')\n",
    "print (obs.string())"
   ]
  }
 ],
 "metadata": {
  "kernelspec": {
   "display_name": "Python 3",
   "language": "python",
   "name": "python3"
  },
  "language_info": {
   "codemirror_mode": {
    "name": "ipython",
    "version": 3
   },
   "file_extension": ".py",
   "mimetype": "text/x-python",
   "name": "python",
   "nbconvert_exporter": "python",
   "pygments_lexer": "ipython3",
   "version": "3.9.4"
  },
  "orig_nbformat": 4
 },
 "nbformat": 4,
 "nbformat_minor": 2
}
