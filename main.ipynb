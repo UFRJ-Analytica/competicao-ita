{
 "cells": [
  {
   "cell_type": "code",
   "execution_count": 103,
   "metadata": {},
   "outputs": [],
   "source": [
    "import pandas as pd\n",
    "import plotly.express as px\n",
    "import re"
   ]
  },
  {
   "cell_type": "code",
   "execution_count": 104,
   "metadata": {},
   "outputs": [],
   "source": [
    "df = pd.read_csv('idsc_test.csv')"
   ]
  },
  {
   "cell_type": "code",
   "execution_count": 105,
   "metadata": {},
   "outputs": [],
   "source": [
    "rota = df['snapshot_radar'].head(1).values[0]\n",
    "\n",
    "# Usando expressão regular para encontrar as coordenadas\n",
    "coordenadas = re.findall(r'-?\\d+\\.\\d+', rota)\n",
    "\n",
    "# Dividir as coordenadas em pares de longitude e latitude\n",
    "pares = [(float(coordenadas[i]), float(coordenadas[i+1])) for i in range(0, len(coordenadas), 2)]\n",
    "\n",
    "map = pd.DataFrame(pares, columns=['Latitude', 'Longitude'])"
   ]
  },
  {
   "cell_type": "code",
   "execution_count": 106,
   "metadata": {},
   "outputs": [
    {
     "data": {
      "application/vnd.plotly.v1+json": {
       "config": {
        "plotlyServerURL": "https://plot.ly"
       },
       "data": [
        {
         "hovertemplate": "Latitude=%{lat}<br>Longitude=%{lon}<extra></extra>",
         "lat": [
          -0.8807200448127578,
          -0.8789048021562952,
          -0.876762024253321,
          -0.8738531893916267,
          -0.8573909519898901,
          -0.8539572858551232,
          -0.8533564568678919,
          -0.8487534988439865,
          -0.8426436402619267,
          -0.8423688563699487,
          -0.8403380186294767,
          -0.8383545676990094,
          -0.8373081238795814,
          -0.835598920386639,
          -0.834667754668531,
          -0.832808761171133,
          -0.8262205640352507,
          -0.8258826573359833,
          -0.8253453087923434,
          -0.8251848493048803,
          -0.8232117102211185,
          -0.8224553690486008,
          -0.8191470544376581,
          -0.8191159996854411,
          -0.8185664915075357,
          -0.8171410128141192,
          -0.816347000617799,
          -0.8159383415368011,
          -0.815386270298732,
          -0.8142396883147655,
          -0.8124555004105198,
          -0.8118696921479692,
          -0.8105636639793953,
          -0.8097018200978101,
          -0.804891790655091,
          -0.8044675743949594,
          -0.80356031070303,
          -0.8034679809310834,
          -0.800338782501354,
          -0.7986990796630855,
          -0.7970937099098016,
          -0.7918695972355054,
          -0.7871174452676476,
          -0.7847343357697809,
          -0.7831747434631431,
          -0.7814560030021495,
          -0.7808876593123427,
          -0.7787191315956301,
          -0.7785444262621405,
          -0.7760057449729371,
          -0.7740393413728613,
          -0.7719265453131985,
          -0.7684102651926873,
          -0.7675190355282941,
          -0.7626274650087365,
          -0.7577417358821101,
          -0.7550297798046248,
          -0.7497371201724601,
          -0.7474301276008527,
          -0.7419380261243153,
          -0.7370257723052963,
          -0.728213792644054,
          -0.7184887078979509,
          -0.7139779604338913,
          -0.6279095656493013,
          -0.6115066958736839,
          -0.6092044717861023
         ],
         "legendgroup": "",
         "lon": [
          -0.5148453155362074,
          -0.5013445975297472,
          -0.4959619339782473,
          -0.4590921175548848,
          -0.4718235813694554,
          -0.4390371237784261,
          -0.4316651988057829,
          -0.4425344679023256,
          -0.4816395437848744,
          -0.4773306296345584,
          -0.2815383624654585,
          -0.2958281813861989,
          -0.4286627413466664,
          -0.278092333740894,
          -0.2786748320630782,
          -0.4306477413844735,
          -0.3969417785890999,
          -0.3664465744382968,
          -0.3702239182672785,
          -0.4456122892667372,
          -0.4010558611012904,
          -0.4016736722853863,
          -0.4004681179996155,
          -0.4279599408949146,
          -0.4101213730512894,
          -0.3980720285693425,
          -0.4099517521145792,
          -0.4599112865515863,
          -0.4140479546966879,
          -0.4124157852791633,
          -0.4135452306625523,
          -0.3076112937092265,
          -0.4121983355294842,
          -0.4177516332137323,
          -0.4123096380942439,
          -0.309914496902724,
          -0.4017767500823084,
          -0.3855673418679772,
          -0.3911374764863857,
          -0.4166448655416638,
          -0.36923652892839,
          -0.3624541946501969,
          -0.4035767524435349,
          -0.3686222937303105,
          -0.4132161505493953,
          -0.3672672334291717,
          -0.4021702277436437,
          -0.3685280962986624,
          -0.3595701619279895,
          -0.3523841584283144,
          -0.4111194605483434,
          -0.345794003598618,
          -0.3430383487743985,
          -0.4039912986224833,
          -0.4019071543723722,
          -0.3998018522049976,
          -0.3994884170306623,
          -0.3890212377617777,
          -0.3341061317031599,
          -0.3211000023626482,
          -0.3667550628319761,
          -0.3089714795903221,
          -0.294553103972293,
          -0.2630550443430806,
          -0.1684063381597106,
          -0.1413538847462903,
          -0.1427661310238076
         ],
         "marker": {
          "color": "#636efa"
         },
         "mode": "markers",
         "name": "",
         "showlegend": false,
         "subplot": "mapbox",
         "type": "scattermapbox"
        }
       ],
       "layout": {
        "height": 600,
        "legend": {
         "tracegroupgap": 0
        },
        "mapbox": {
         "center": {
          "lat": -0.7963330539709548,
          "lon": -0.38051243055572237
         },
         "domain": {
          "x": [
           0,
           1
          ],
          "y": [
           0,
           1
          ]
         },
         "style": "carto-positron",
         "zoom": 12.5
        },
        "margin": {
         "t": 60
        },
        "template": {
         "data": {
          "bar": [
           {
            "error_x": {
             "color": "#2a3f5f"
            },
            "error_y": {
             "color": "#2a3f5f"
            },
            "marker": {
             "line": {
              "color": "#E5ECF6",
              "width": 0.5
             },
             "pattern": {
              "fillmode": "overlay",
              "size": 10,
              "solidity": 0.2
             }
            },
            "type": "bar"
           }
          ],
          "barpolar": [
           {
            "marker": {
             "line": {
              "color": "#E5ECF6",
              "width": 0.5
             },
             "pattern": {
              "fillmode": "overlay",
              "size": 10,
              "solidity": 0.2
             }
            },
            "type": "barpolar"
           }
          ],
          "carpet": [
           {
            "aaxis": {
             "endlinecolor": "#2a3f5f",
             "gridcolor": "white",
             "linecolor": "white",
             "minorgridcolor": "white",
             "startlinecolor": "#2a3f5f"
            },
            "baxis": {
             "endlinecolor": "#2a3f5f",
             "gridcolor": "white",
             "linecolor": "white",
             "minorgridcolor": "white",
             "startlinecolor": "#2a3f5f"
            },
            "type": "carpet"
           }
          ],
          "choropleth": [
           {
            "colorbar": {
             "outlinewidth": 0,
             "ticks": ""
            },
            "type": "choropleth"
           }
          ],
          "contour": [
           {
            "colorbar": {
             "outlinewidth": 0,
             "ticks": ""
            },
            "colorscale": [
             [
              0,
              "#0d0887"
             ],
             [
              0.1111111111111111,
              "#46039f"
             ],
             [
              0.2222222222222222,
              "#7201a8"
             ],
             [
              0.3333333333333333,
              "#9c179e"
             ],
             [
              0.4444444444444444,
              "#bd3786"
             ],
             [
              0.5555555555555556,
              "#d8576b"
             ],
             [
              0.6666666666666666,
              "#ed7953"
             ],
             [
              0.7777777777777778,
              "#fb9f3a"
             ],
             [
              0.8888888888888888,
              "#fdca26"
             ],
             [
              1,
              "#f0f921"
             ]
            ],
            "type": "contour"
           }
          ],
          "contourcarpet": [
           {
            "colorbar": {
             "outlinewidth": 0,
             "ticks": ""
            },
            "type": "contourcarpet"
           }
          ],
          "heatmap": [
           {
            "colorbar": {
             "outlinewidth": 0,
             "ticks": ""
            },
            "colorscale": [
             [
              0,
              "#0d0887"
             ],
             [
              0.1111111111111111,
              "#46039f"
             ],
             [
              0.2222222222222222,
              "#7201a8"
             ],
             [
              0.3333333333333333,
              "#9c179e"
             ],
             [
              0.4444444444444444,
              "#bd3786"
             ],
             [
              0.5555555555555556,
              "#d8576b"
             ],
             [
              0.6666666666666666,
              "#ed7953"
             ],
             [
              0.7777777777777778,
              "#fb9f3a"
             ],
             [
              0.8888888888888888,
              "#fdca26"
             ],
             [
              1,
              "#f0f921"
             ]
            ],
            "type": "heatmap"
           }
          ],
          "heatmapgl": [
           {
            "colorbar": {
             "outlinewidth": 0,
             "ticks": ""
            },
            "colorscale": [
             [
              0,
              "#0d0887"
             ],
             [
              0.1111111111111111,
              "#46039f"
             ],
             [
              0.2222222222222222,
              "#7201a8"
             ],
             [
              0.3333333333333333,
              "#9c179e"
             ],
             [
              0.4444444444444444,
              "#bd3786"
             ],
             [
              0.5555555555555556,
              "#d8576b"
             ],
             [
              0.6666666666666666,
              "#ed7953"
             ],
             [
              0.7777777777777778,
              "#fb9f3a"
             ],
             [
              0.8888888888888888,
              "#fdca26"
             ],
             [
              1,
              "#f0f921"
             ]
            ],
            "type": "heatmapgl"
           }
          ],
          "histogram": [
           {
            "marker": {
             "pattern": {
              "fillmode": "overlay",
              "size": 10,
              "solidity": 0.2
             }
            },
            "type": "histogram"
           }
          ],
          "histogram2d": [
           {
            "colorbar": {
             "outlinewidth": 0,
             "ticks": ""
            },
            "colorscale": [
             [
              0,
              "#0d0887"
             ],
             [
              0.1111111111111111,
              "#46039f"
             ],
             [
              0.2222222222222222,
              "#7201a8"
             ],
             [
              0.3333333333333333,
              "#9c179e"
             ],
             [
              0.4444444444444444,
              "#bd3786"
             ],
             [
              0.5555555555555556,
              "#d8576b"
             ],
             [
              0.6666666666666666,
              "#ed7953"
             ],
             [
              0.7777777777777778,
              "#fb9f3a"
             ],
             [
              0.8888888888888888,
              "#fdca26"
             ],
             [
              1,
              "#f0f921"
             ]
            ],
            "type": "histogram2d"
           }
          ],
          "histogram2dcontour": [
           {
            "colorbar": {
             "outlinewidth": 0,
             "ticks": ""
            },
            "colorscale": [
             [
              0,
              "#0d0887"
             ],
             [
              0.1111111111111111,
              "#46039f"
             ],
             [
              0.2222222222222222,
              "#7201a8"
             ],
             [
              0.3333333333333333,
              "#9c179e"
             ],
             [
              0.4444444444444444,
              "#bd3786"
             ],
             [
              0.5555555555555556,
              "#d8576b"
             ],
             [
              0.6666666666666666,
              "#ed7953"
             ],
             [
              0.7777777777777778,
              "#fb9f3a"
             ],
             [
              0.8888888888888888,
              "#fdca26"
             ],
             [
              1,
              "#f0f921"
             ]
            ],
            "type": "histogram2dcontour"
           }
          ],
          "mesh3d": [
           {
            "colorbar": {
             "outlinewidth": 0,
             "ticks": ""
            },
            "type": "mesh3d"
           }
          ],
          "parcoords": [
           {
            "line": {
             "colorbar": {
              "outlinewidth": 0,
              "ticks": ""
             }
            },
            "type": "parcoords"
           }
          ],
          "pie": [
           {
            "automargin": true,
            "type": "pie"
           }
          ],
          "scatter": [
           {
            "fillpattern": {
             "fillmode": "overlay",
             "size": 10,
             "solidity": 0.2
            },
            "type": "scatter"
           }
          ],
          "scatter3d": [
           {
            "line": {
             "colorbar": {
              "outlinewidth": 0,
              "ticks": ""
             }
            },
            "marker": {
             "colorbar": {
              "outlinewidth": 0,
              "ticks": ""
             }
            },
            "type": "scatter3d"
           }
          ],
          "scattercarpet": [
           {
            "marker": {
             "colorbar": {
              "outlinewidth": 0,
              "ticks": ""
             }
            },
            "type": "scattercarpet"
           }
          ],
          "scattergeo": [
           {
            "marker": {
             "colorbar": {
              "outlinewidth": 0,
              "ticks": ""
             }
            },
            "type": "scattergeo"
           }
          ],
          "scattergl": [
           {
            "marker": {
             "colorbar": {
              "outlinewidth": 0,
              "ticks": ""
             }
            },
            "type": "scattergl"
           }
          ],
          "scattermapbox": [
           {
            "marker": {
             "colorbar": {
              "outlinewidth": 0,
              "ticks": ""
             }
            },
            "type": "scattermapbox"
           }
          ],
          "scatterpolar": [
           {
            "marker": {
             "colorbar": {
              "outlinewidth": 0,
              "ticks": ""
             }
            },
            "type": "scatterpolar"
           }
          ],
          "scatterpolargl": [
           {
            "marker": {
             "colorbar": {
              "outlinewidth": 0,
              "ticks": ""
             }
            },
            "type": "scatterpolargl"
           }
          ],
          "scatterternary": [
           {
            "marker": {
             "colorbar": {
              "outlinewidth": 0,
              "ticks": ""
             }
            },
            "type": "scatterternary"
           }
          ],
          "surface": [
           {
            "colorbar": {
             "outlinewidth": 0,
             "ticks": ""
            },
            "colorscale": [
             [
              0,
              "#0d0887"
             ],
             [
              0.1111111111111111,
              "#46039f"
             ],
             [
              0.2222222222222222,
              "#7201a8"
             ],
             [
              0.3333333333333333,
              "#9c179e"
             ],
             [
              0.4444444444444444,
              "#bd3786"
             ],
             [
              0.5555555555555556,
              "#d8576b"
             ],
             [
              0.6666666666666666,
              "#ed7953"
             ],
             [
              0.7777777777777778,
              "#fb9f3a"
             ],
             [
              0.8888888888888888,
              "#fdca26"
             ],
             [
              1,
              "#f0f921"
             ]
            ],
            "type": "surface"
           }
          ],
          "table": [
           {
            "cells": {
             "fill": {
              "color": "#EBF0F8"
             },
             "line": {
              "color": "white"
             }
            },
            "header": {
             "fill": {
              "color": "#C8D4E3"
             },
             "line": {
              "color": "white"
             }
            },
            "type": "table"
           }
          ]
         },
         "layout": {
          "annotationdefaults": {
           "arrowcolor": "#2a3f5f",
           "arrowhead": 0,
           "arrowwidth": 1
          },
          "autotypenumbers": "strict",
          "coloraxis": {
           "colorbar": {
            "outlinewidth": 0,
            "ticks": ""
           }
          },
          "colorscale": {
           "diverging": [
            [
             0,
             "#8e0152"
            ],
            [
             0.1,
             "#c51b7d"
            ],
            [
             0.2,
             "#de77ae"
            ],
            [
             0.3,
             "#f1b6da"
            ],
            [
             0.4,
             "#fde0ef"
            ],
            [
             0.5,
             "#f7f7f7"
            ],
            [
             0.6,
             "#e6f5d0"
            ],
            [
             0.7,
             "#b8e186"
            ],
            [
             0.8,
             "#7fbc41"
            ],
            [
             0.9,
             "#4d9221"
            ],
            [
             1,
             "#276419"
            ]
           ],
           "sequential": [
            [
             0,
             "#0d0887"
            ],
            [
             0.1111111111111111,
             "#46039f"
            ],
            [
             0.2222222222222222,
             "#7201a8"
            ],
            [
             0.3333333333333333,
             "#9c179e"
            ],
            [
             0.4444444444444444,
             "#bd3786"
            ],
            [
             0.5555555555555556,
             "#d8576b"
            ],
            [
             0.6666666666666666,
             "#ed7953"
            ],
            [
             0.7777777777777778,
             "#fb9f3a"
            ],
            [
             0.8888888888888888,
             "#fdca26"
            ],
            [
             1,
             "#f0f921"
            ]
           ],
           "sequentialminus": [
            [
             0,
             "#0d0887"
            ],
            [
             0.1111111111111111,
             "#46039f"
            ],
            [
             0.2222222222222222,
             "#7201a8"
            ],
            [
             0.3333333333333333,
             "#9c179e"
            ],
            [
             0.4444444444444444,
             "#bd3786"
            ],
            [
             0.5555555555555556,
             "#d8576b"
            ],
            [
             0.6666666666666666,
             "#ed7953"
            ],
            [
             0.7777777777777778,
             "#fb9f3a"
            ],
            [
             0.8888888888888888,
             "#fdca26"
            ],
            [
             1,
             "#f0f921"
            ]
           ]
          },
          "colorway": [
           "#636efa",
           "#EF553B",
           "#00cc96",
           "#ab63fa",
           "#FFA15A",
           "#19d3f3",
           "#FF6692",
           "#B6E880",
           "#FF97FF",
           "#FECB52"
          ],
          "font": {
           "color": "#2a3f5f"
          },
          "geo": {
           "bgcolor": "white",
           "lakecolor": "white",
           "landcolor": "#E5ECF6",
           "showlakes": true,
           "showland": true,
           "subunitcolor": "white"
          },
          "hoverlabel": {
           "align": "left"
          },
          "hovermode": "closest",
          "mapbox": {
           "style": "light"
          },
          "paper_bgcolor": "white",
          "plot_bgcolor": "#E5ECF6",
          "polar": {
           "angularaxis": {
            "gridcolor": "white",
            "linecolor": "white",
            "ticks": ""
           },
           "bgcolor": "#E5ECF6",
           "radialaxis": {
            "gridcolor": "white",
            "linecolor": "white",
            "ticks": ""
           }
          },
          "scene": {
           "xaxis": {
            "backgroundcolor": "#E5ECF6",
            "gridcolor": "white",
            "gridwidth": 2,
            "linecolor": "white",
            "showbackground": true,
            "ticks": "",
            "zerolinecolor": "white"
           },
           "yaxis": {
            "backgroundcolor": "#E5ECF6",
            "gridcolor": "white",
            "gridwidth": 2,
            "linecolor": "white",
            "showbackground": true,
            "ticks": "",
            "zerolinecolor": "white"
           },
           "zaxis": {
            "backgroundcolor": "#E5ECF6",
            "gridcolor": "white",
            "gridwidth": 2,
            "linecolor": "white",
            "showbackground": true,
            "ticks": "",
            "zerolinecolor": "white"
           }
          },
          "shapedefaults": {
           "line": {
            "color": "#2a3f5f"
           }
          },
          "ternary": {
           "aaxis": {
            "gridcolor": "white",
            "linecolor": "white",
            "ticks": ""
           },
           "baxis": {
            "gridcolor": "white",
            "linecolor": "white",
            "ticks": ""
           },
           "bgcolor": "#E5ECF6",
           "caxis": {
            "gridcolor": "white",
            "linecolor": "white",
            "ticks": ""
           }
          },
          "title": {
           "x": 0.05
          },
          "xaxis": {
           "automargin": true,
           "gridcolor": "white",
           "linecolor": "white",
           "ticks": "",
           "title": {
            "standoff": 15
           },
           "zerolinecolor": "white",
           "zerolinewidth": 2
          },
          "yaxis": {
           "automargin": true,
           "gridcolor": "white",
           "linecolor": "white",
           "ticks": "",
           "title": {
            "standoff": 15
           },
           "zerolinecolor": "white",
           "zerolinewidth": 2
          }
         }
        },
        "width": 900
       }
      }
     },
     "metadata": {},
     "output_type": "display_data"
    }
   ],
   "source": [
    "fig = px.scatter_mapbox(map, lat=\"Latitude\", lon=\"Longitude\", \n",
    "                        color_continuous_scale=px.colors.cyclical.IceFire,width=900, height=600, zoom=12.5, \n",
    "                        mapbox_style=\"carto-positron\")\n",
    "\n",
    "fig.show()"
   ]
  },
  {
   "cell_type": "code",
   "execution_count": 107,
   "metadata": {},
   "outputs": [
    {
     "data": {
      "text/plain": [
       "array([nan, nan, nan, nan, nan, nan, '2023-05-16 19:00:00.000', nan, nan,\n",
       "       nan, nan, nan, nan, nan, nan, nan, nan, nan, nan, nan,\n",
       "       '2023-05-16 18:00:00.000', nan, nan, nan, nan, nan, nan, nan, nan,\n",
       "       nan, nan, nan, nan, '2023-05-23 11:00:00.000', nan, nan, nan, nan,\n",
       "       '2023-05-19 00:00:00.000', nan, '2023-05-16 13:00:00.000', nan,\n",
       "       '2023-05-27 13:00:00.000', nan, nan, '2023-05-28 18:00:00.000',\n",
       "       nan, nan, nan, nan, '2023-05-24 16:00:00.000', nan, nan, nan,\n",
       "       '2023-05-30 15:00:00.000', nan, nan, nan,\n",
       "       '2023-05-25 12:00:00.000', '2023-05-24 12:00:00.000', nan, nan,\n",
       "       nan, '2023-05-27 12:00:00.000', nan, nan, nan,\n",
       "       '2023-05-27 13:00:00.000', nan, nan, nan,\n",
       "       '2023-05-26 12:00:00.000', nan, nan, nan, nan, nan, nan,\n",
       "       '2023-05-15 13:00:00.000', nan, nan, nan, nan, nan, nan,\n",
       "       '2023-05-18 15:00:00.000', nan, nan, '2023-05-28 17:00:00.000',\n",
       "       nan, nan, '2023-05-25 13:00:00.000', nan,\n",
       "       '2023-05-18 15:00:00.000', nan, nan, '2023-05-31 19:00:00.000',\n",
       "       nan, nan, '2023-05-20 13:00:00.000'], dtype=object)"
      ]
     },
     "execution_count": 107,
     "metadata": {},
     "output_type": "execute_result"
    }
   ],
   "source": [
    "df['hora_tcr'].values"
   ]
  },
  {
   "cell_type": "code",
   "execution_count": 108,
   "metadata": {},
   "outputs": [
    {
     "data": {
      "text/plain": [
       "'http://satelite.cptec.inpe.br/repositoriogoes/goes16/goes16_web/ams_ret_ch11_baixa/2023/05/S11635384_202305301100.jpg'"
      ]
     },
     "execution_count": 108,
     "metadata": {},
     "output_type": "execute_result"
    }
   ],
   "source": [
    "df.path.iloc[0]"
   ]
  },
  {
   "cell_type": "code",
   "execution_count": 109,
   "metadata": {},
   "outputs": [
    {
     "data": {
      "text/html": [
       "<div>\n",
       "<style scoped>\n",
       "    .dataframe tbody tr th:only-of-type {\n",
       "        vertical-align: middle;\n",
       "    }\n",
       "\n",
       "    .dataframe tbody tr th {\n",
       "        vertical-align: top;\n",
       "    }\n",
       "\n",
       "    .dataframe thead th {\n",
       "        text-align: right;\n",
       "    }\n",
       "</style>\n",
       "<table border=\"1\" class=\"dataframe\">\n",
       "  <thead>\n",
       "    <tr style=\"text-align: right;\">\n",
       "      <th></th>\n",
       "      <th>0</th>\n",
       "      <th>1</th>\n",
       "      <th>2</th>\n",
       "      <th>3</th>\n",
       "      <th>4</th>\n",
       "    </tr>\n",
       "  </thead>\n",
       "  <tbody>\n",
       "    <tr>\n",
       "      <th>flightid</th>\n",
       "      <td>7945735584a3297121c4f5ae0de8ecd1</td>\n",
       "      <td>85cb958e8b9d583575cd9cb93e389226</td>\n",
       "      <td>2d4e8cd3947525a12ff16af520beefb9</td>\n",
       "      <td>24cf317a1494a016a018d9f5cd183639</td>\n",
       "      <td>370babaf32dc82a6a64bf5b71a3434ed</td>\n",
       "    </tr>\n",
       "    <tr>\n",
       "      <th>origem</th>\n",
       "      <td>SBKP</td>\n",
       "      <td>SBFL</td>\n",
       "      <td>SBCF</td>\n",
       "      <td>SBFL</td>\n",
       "      <td>SBCF</td>\n",
       "    </tr>\n",
       "    <tr>\n",
       "      <th>destino</th>\n",
       "      <td>SBSV</td>\n",
       "      <td>SBRJ</td>\n",
       "      <td>SBGR</td>\n",
       "      <td>SBSP</td>\n",
       "      <td>SBKP</td>\n",
       "    </tr>\n",
       "    <tr>\n",
       "      <th>dt_dep</th>\n",
       "      <td>2023-05-30 11:36:03.000</td>\n",
       "      <td>2023-05-19 08:26:06.000</td>\n",
       "      <td>2023-05-22 11:52:02.000</td>\n",
       "      <td>2023-05-29 16:07:07.000</td>\n",
       "      <td>2023-05-25 22:16:04.000</td>\n",
       "    </tr>\n",
       "    <tr>\n",
       "      <th>hora_ref</th>\n",
       "      <td>2023-05-30 11:00:00.000</td>\n",
       "      <td>2023-05-19 08:00:00.000</td>\n",
       "      <td>2023-05-22 11:00:00.000</td>\n",
       "      <td>2023-05-29 16:00:00.000</td>\n",
       "      <td>2023-05-25 22:00:00.000</td>\n",
       "    </tr>\n",
       "    <tr>\n",
       "      <th>snapshot_radar</th>\n",
       "      <td>MULTIPOINT ((-0.8807200448127578 -0.5148453155...</td>\n",
       "      <td>MULTIPOINT ((-0.8826266039383116 -0.4926305156...</td>\n",
       "      <td>MULTIPOINT ((-0.8972512464147154 -0.5215196550...</td>\n",
       "      <td>MULTIPOINT ((-0.892972783728755 -0.51704889771...</td>\n",
       "      <td>MULTIPOINT ((-0.8970045369724385 -0.5240544927...</td>\n",
       "    </tr>\n",
       "    <tr>\n",
       "      <th>path</th>\n",
       "      <td>http://satelite.cptec.inpe.br/repositoriogoes/...</td>\n",
       "      <td>http://satelite.cptec.inpe.br/repositoriogoes/...</td>\n",
       "      <td>http://satelite.cptec.inpe.br/repositoriogoes/...</td>\n",
       "      <td>http://satelite.cptec.inpe.br/repositoriogoes/...</td>\n",
       "      <td>http://satelite.cptec.inpe.br/repositoriogoes/...</td>\n",
       "    </tr>\n",
       "    <tr>\n",
       "      <th>hora_esperas</th>\n",
       "      <td>2023-05-30 10:00:00.000</td>\n",
       "      <td>2023-05-19 07:00:00.000</td>\n",
       "      <td>2023-05-22 10:00:00.000</td>\n",
       "      <td>2023-05-29 15:00:00.000</td>\n",
       "      <td>2023-05-25 21:00:00.000</td>\n",
       "    </tr>\n",
       "    <tr>\n",
       "      <th>esperas</th>\n",
       "      <td>0</td>\n",
       "      <td>0</td>\n",
       "      <td>0</td>\n",
       "      <td>2</td>\n",
       "      <td>0</td>\n",
       "    </tr>\n",
       "    <tr>\n",
       "      <th>aero_esperas</th>\n",
       "      <td>SBSV</td>\n",
       "      <td>SBRJ</td>\n",
       "      <td>SBGR</td>\n",
       "      <td>SBSP</td>\n",
       "      <td>SBKP</td>\n",
       "    </tr>\n",
       "    <tr>\n",
       "      <th>hora_metaf</th>\n",
       "      <td>NaN</td>\n",
       "      <td>2023-05-19 09:00:00.000</td>\n",
       "      <td>2023-05-22 12:00:00.000</td>\n",
       "      <td>2023-05-29 17:00:00.000</td>\n",
       "      <td>2023-05-25 23:00:00.000</td>\n",
       "    </tr>\n",
       "    <tr>\n",
       "      <th>metaf</th>\n",
       "      <td>NaN</td>\n",
       "      <td>METAF SBRJ 190900Z  33004KT 9999       BKN033 ...</td>\n",
       "      <td>METAF SBGR 221200Z 04003KT CAVOK 19/09 Q1021=\\n</td>\n",
       "      <td>METAF SBSP 291700Z  15010KT 9999       OVC033 ...</td>\n",
       "      <td>METAF SBKP 252300Z 08008KT CAVOK 21/12 Q1019=\\n</td>\n",
       "    </tr>\n",
       "    <tr>\n",
       "      <th>aero_metaf</th>\n",
       "      <td>NaN</td>\n",
       "      <td>SBRJ</td>\n",
       "      <td>SBGR</td>\n",
       "      <td>SBSP</td>\n",
       "      <td>SBKP</td>\n",
       "    </tr>\n",
       "    <tr>\n",
       "      <th>hora_metar</th>\n",
       "      <td>2023-05-30 11:00:00.000</td>\n",
       "      <td>2023-05-19 08:00:00.000</td>\n",
       "      <td>2023-05-22 11:00:00.000</td>\n",
       "      <td>2023-05-29 16:00:00.000</td>\n",
       "      <td>2023-05-25 22:00:00.000</td>\n",
       "    </tr>\n",
       "    <tr>\n",
       "      <th>metar</th>\n",
       "      <td>METAR SBSV 301100Z 12009KT 9999 FEW023 28/21 Q...</td>\n",
       "      <td>METAR SBRJ 190800Z 02004KT 9999 FEW010 SCT040 ...</td>\n",
       "      <td>METAR SBGR 221100Z 07006KT CAVOK 13/12 Q1022=</td>\n",
       "      <td>METAR SBSP 291600Z 12010KT 090V160 9999 SCT015...</td>\n",
       "      <td>METAR SBKP 252200Z 09004KT CAVOK 23/13 Q1020=</td>\n",
       "    </tr>\n",
       "    <tr>\n",
       "      <th>aero_metar</th>\n",
       "      <td>SBSV</td>\n",
       "      <td>SBRJ</td>\n",
       "      <td>SBGR</td>\n",
       "      <td>SBSP</td>\n",
       "      <td>SBKP</td>\n",
       "    </tr>\n",
       "    <tr>\n",
       "      <th>hora_tcp</th>\n",
       "      <td>2023-05-30 12:00:00.000</td>\n",
       "      <td>2023-05-19 09:00:00.000</td>\n",
       "      <td>2023-05-22 12:00:00.000</td>\n",
       "      <td>2023-05-29 17:00:00.000</td>\n",
       "      <td>2023-05-25 23:00:00.000</td>\n",
       "    </tr>\n",
       "    <tr>\n",
       "      <th>troca</th>\n",
       "      <td>0</td>\n",
       "      <td>0</td>\n",
       "      <td>0</td>\n",
       "      <td>0</td>\n",
       "      <td>0</td>\n",
       "    </tr>\n",
       "    <tr>\n",
       "      <th>aero_tcp</th>\n",
       "      <td>SBSV</td>\n",
       "      <td>SBRJ</td>\n",
       "      <td>SBGR</td>\n",
       "      <td>SBSP</td>\n",
       "      <td>SBKP</td>\n",
       "    </tr>\n",
       "    <tr>\n",
       "      <th>hora_tcr</th>\n",
       "      <td>NaN</td>\n",
       "      <td>NaN</td>\n",
       "      <td>NaN</td>\n",
       "      <td>NaN</td>\n",
       "      <td>NaN</td>\n",
       "    </tr>\n",
       "    <tr>\n",
       "      <th>aero_tcr</th>\n",
       "      <td>NaN</td>\n",
       "      <td>NaN</td>\n",
       "      <td>NaN</td>\n",
       "      <td>NaN</td>\n",
       "      <td>NaN</td>\n",
       "    </tr>\n",
       "  </tbody>\n",
       "</table>\n",
       "</div>"
      ],
      "text/plain": [
       "                                                                0  \\\n",
       "flightid                         7945735584a3297121c4f5ae0de8ecd1   \n",
       "origem                                                       SBKP   \n",
       "destino                                                      SBSV   \n",
       "dt_dep                                    2023-05-30 11:36:03.000   \n",
       "hora_ref                                  2023-05-30 11:00:00.000   \n",
       "snapshot_radar  MULTIPOINT ((-0.8807200448127578 -0.5148453155...   \n",
       "path            http://satelite.cptec.inpe.br/repositoriogoes/...   \n",
       "hora_esperas                              2023-05-30 10:00:00.000   \n",
       "esperas                                                         0   \n",
       "aero_esperas                                                 SBSV   \n",
       "hora_metaf                                                    NaN   \n",
       "metaf                                                         NaN   \n",
       "aero_metaf                                                    NaN   \n",
       "hora_metar                                2023-05-30 11:00:00.000   \n",
       "metar           METAR SBSV 301100Z 12009KT 9999 FEW023 28/21 Q...   \n",
       "aero_metar                                                   SBSV   \n",
       "hora_tcp                                  2023-05-30 12:00:00.000   \n",
       "troca                                                           0   \n",
       "aero_tcp                                                     SBSV   \n",
       "hora_tcr                                                      NaN   \n",
       "aero_tcr                                                      NaN   \n",
       "\n",
       "                                                                1  \\\n",
       "flightid                         85cb958e8b9d583575cd9cb93e389226   \n",
       "origem                                                       SBFL   \n",
       "destino                                                      SBRJ   \n",
       "dt_dep                                    2023-05-19 08:26:06.000   \n",
       "hora_ref                                  2023-05-19 08:00:00.000   \n",
       "snapshot_radar  MULTIPOINT ((-0.8826266039383116 -0.4926305156...   \n",
       "path            http://satelite.cptec.inpe.br/repositoriogoes/...   \n",
       "hora_esperas                              2023-05-19 07:00:00.000   \n",
       "esperas                                                         0   \n",
       "aero_esperas                                                 SBRJ   \n",
       "hora_metaf                                2023-05-19 09:00:00.000   \n",
       "metaf           METAF SBRJ 190900Z  33004KT 9999       BKN033 ...   \n",
       "aero_metaf                                                   SBRJ   \n",
       "hora_metar                                2023-05-19 08:00:00.000   \n",
       "metar           METAR SBRJ 190800Z 02004KT 9999 FEW010 SCT040 ...   \n",
       "aero_metar                                                   SBRJ   \n",
       "hora_tcp                                  2023-05-19 09:00:00.000   \n",
       "troca                                                           0   \n",
       "aero_tcp                                                     SBRJ   \n",
       "hora_tcr                                                      NaN   \n",
       "aero_tcr                                                      NaN   \n",
       "\n",
       "                                                                2  \\\n",
       "flightid                         2d4e8cd3947525a12ff16af520beefb9   \n",
       "origem                                                       SBCF   \n",
       "destino                                                      SBGR   \n",
       "dt_dep                                    2023-05-22 11:52:02.000   \n",
       "hora_ref                                  2023-05-22 11:00:00.000   \n",
       "snapshot_radar  MULTIPOINT ((-0.8972512464147154 -0.5215196550...   \n",
       "path            http://satelite.cptec.inpe.br/repositoriogoes/...   \n",
       "hora_esperas                              2023-05-22 10:00:00.000   \n",
       "esperas                                                         0   \n",
       "aero_esperas                                                 SBGR   \n",
       "hora_metaf                                2023-05-22 12:00:00.000   \n",
       "metaf             METAF SBGR 221200Z 04003KT CAVOK 19/09 Q1021=\\n   \n",
       "aero_metaf                                                   SBGR   \n",
       "hora_metar                                2023-05-22 11:00:00.000   \n",
       "metar               METAR SBGR 221100Z 07006KT CAVOK 13/12 Q1022=   \n",
       "aero_metar                                                   SBGR   \n",
       "hora_tcp                                  2023-05-22 12:00:00.000   \n",
       "troca                                                           0   \n",
       "aero_tcp                                                     SBGR   \n",
       "hora_tcr                                                      NaN   \n",
       "aero_tcr                                                      NaN   \n",
       "\n",
       "                                                                3  \\\n",
       "flightid                         24cf317a1494a016a018d9f5cd183639   \n",
       "origem                                                       SBFL   \n",
       "destino                                                      SBSP   \n",
       "dt_dep                                    2023-05-29 16:07:07.000   \n",
       "hora_ref                                  2023-05-29 16:00:00.000   \n",
       "snapshot_radar  MULTIPOINT ((-0.892972783728755 -0.51704889771...   \n",
       "path            http://satelite.cptec.inpe.br/repositoriogoes/...   \n",
       "hora_esperas                              2023-05-29 15:00:00.000   \n",
       "esperas                                                         2   \n",
       "aero_esperas                                                 SBSP   \n",
       "hora_metaf                                2023-05-29 17:00:00.000   \n",
       "metaf           METAF SBSP 291700Z  15010KT 9999       OVC033 ...   \n",
       "aero_metaf                                                   SBSP   \n",
       "hora_metar                                2023-05-29 16:00:00.000   \n",
       "metar           METAR SBSP 291600Z 12010KT 090V160 9999 SCT015...   \n",
       "aero_metar                                                   SBSP   \n",
       "hora_tcp                                  2023-05-29 17:00:00.000   \n",
       "troca                                                           0   \n",
       "aero_tcp                                                     SBSP   \n",
       "hora_tcr                                                      NaN   \n",
       "aero_tcr                                                      NaN   \n",
       "\n",
       "                                                                4  \n",
       "flightid                         370babaf32dc82a6a64bf5b71a3434ed  \n",
       "origem                                                       SBCF  \n",
       "destino                                                      SBKP  \n",
       "dt_dep                                    2023-05-25 22:16:04.000  \n",
       "hora_ref                                  2023-05-25 22:00:00.000  \n",
       "snapshot_radar  MULTIPOINT ((-0.8970045369724385 -0.5240544927...  \n",
       "path            http://satelite.cptec.inpe.br/repositoriogoes/...  \n",
       "hora_esperas                              2023-05-25 21:00:00.000  \n",
       "esperas                                                         0  \n",
       "aero_esperas                                                 SBKP  \n",
       "hora_metaf                                2023-05-25 23:00:00.000  \n",
       "metaf             METAF SBKP 252300Z 08008KT CAVOK 21/12 Q1019=\\n  \n",
       "aero_metaf                                                   SBKP  \n",
       "hora_metar                                2023-05-25 22:00:00.000  \n",
       "metar               METAR SBKP 252200Z 09004KT CAVOK 23/13 Q1020=  \n",
       "aero_metar                                                   SBKP  \n",
       "hora_tcp                                  2023-05-25 23:00:00.000  \n",
       "troca                                                           0  \n",
       "aero_tcp                                                     SBKP  \n",
       "hora_tcr                                                      NaN  \n",
       "aero_tcr                                                      NaN  "
      ]
     },
     "execution_count": 109,
     "metadata": {},
     "output_type": "execute_result"
    }
   ],
   "source": [
    "df.head(5).T"
   ]
  },
  {
   "cell_type": "code",
   "execution_count": 110,
   "metadata": {},
   "outputs": [],
   "source": [
    "from datetime import datetime, timedelta\n",
    "import numpy as np"
   ]
  },
  {
   "cell_type": "code",
   "execution_count": 111,
   "metadata": {},
   "outputs": [
    {
     "data": {
      "text/plain": [
       "True"
      ]
     },
     "execution_count": 111,
     "metadata": {},
     "output_type": "execute_result"
    }
   ],
   "source": [
    "pd.isna(df['hora_metaf'].iloc[0])"
   ]
  },
  {
   "cell_type": "code",
   "execution_count": 114,
   "metadata": {},
   "outputs": [
    {
     "ename": "TypeError",
     "evalue": "'float' object is not subscriptable",
     "output_type": "error",
     "traceback": [
      "\u001b[1;31m---------------------------------------------------------------------------\u001b[0m",
      "\u001b[1;31mTypeError\u001b[0m                                 Traceback (most recent call last)",
      "\u001b[1;32mC:\\Users\\MARCOS~1\\AppData\\Local\\Temp/ipykernel_22484/3665908425.py\u001b[0m in \u001b[0;36m<module>\u001b[1;34m\u001b[0m\n\u001b[1;32m----> 1\u001b[1;33m \u001b[0mdf\u001b[0m\u001b[1;33m[\u001b[0m\u001b[1;34m'hora_metaf'\u001b[0m\u001b[1;33m]\u001b[0m\u001b[1;33m.\u001b[0m\u001b[0mapply\u001b[0m\u001b[1;33m(\u001b[0m\u001b[1;32mlambda\u001b[0m \u001b[0mrow\u001b[0m\u001b[1;33m:\u001b[0m \u001b[0mrow\u001b[0m\u001b[1;33m[\u001b[0m\u001b[1;34m'hora_metar'\u001b[0m\u001b[1;33m]\u001b[0m \u001b[1;33m+\u001b[0m \u001b[0mtimedelta\u001b[0m\u001b[1;33m(\u001b[0m\u001b[0mhours\u001b[0m\u001b[1;33m=\u001b[0m\u001b[1;36m1\u001b[0m\u001b[1;33m)\u001b[0m \u001b[1;32mif\u001b[0m \u001b[0mpd\u001b[0m\u001b[1;33m.\u001b[0m\u001b[0misna\u001b[0m\u001b[1;33m(\u001b[0m\u001b[0mrow\u001b[0m\u001b[1;33m)\u001b[0m \u001b[1;32melse\u001b[0m \u001b[0mrow\u001b[0m\u001b[1;33m)\u001b[0m\u001b[1;33m\u001b[0m\u001b[1;33m\u001b[0m\u001b[0m\n\u001b[0m",
      "\u001b[1;32mc:\\Users\\Marcos Eduardo\\AppData\\Local\\Programs\\Python\\Python39\\lib\\site-packages\\pandas\\core\\series.py\u001b[0m in \u001b[0;36mapply\u001b[1;34m(self, func, convert_dtype, args, **kwargs)\u001b[0m\n\u001b[0;32m   4769\u001b[0m         \u001b[0mdtype\u001b[0m\u001b[1;33m:\u001b[0m \u001b[0mfloat64\u001b[0m\u001b[1;33m\u001b[0m\u001b[1;33m\u001b[0m\u001b[0m\n\u001b[0;32m   4770\u001b[0m         \"\"\"\n\u001b[1;32m-> 4771\u001b[1;33m         \u001b[1;32mreturn\u001b[0m \u001b[0mSeriesApply\u001b[0m\u001b[1;33m(\u001b[0m\u001b[0mself\u001b[0m\u001b[1;33m,\u001b[0m \u001b[0mfunc\u001b[0m\u001b[1;33m,\u001b[0m \u001b[0mconvert_dtype\u001b[0m\u001b[1;33m,\u001b[0m \u001b[0margs\u001b[0m\u001b[1;33m,\u001b[0m \u001b[0mkwargs\u001b[0m\u001b[1;33m)\u001b[0m\u001b[1;33m.\u001b[0m\u001b[0mapply\u001b[0m\u001b[1;33m(\u001b[0m\u001b[1;33m)\u001b[0m\u001b[1;33m\u001b[0m\u001b[1;33m\u001b[0m\u001b[0m\n\u001b[0m\u001b[0;32m   4772\u001b[0m \u001b[1;33m\u001b[0m\u001b[0m\n\u001b[0;32m   4773\u001b[0m     def _reduce(\n",
      "\u001b[1;32mc:\\Users\\Marcos Eduardo\\AppData\\Local\\Programs\\Python\\Python39\\lib\\site-packages\\pandas\\core\\apply.py\u001b[0m in \u001b[0;36mapply\u001b[1;34m(self)\u001b[0m\n\u001b[0;32m   1121\u001b[0m \u001b[1;33m\u001b[0m\u001b[0m\n\u001b[0;32m   1122\u001b[0m         \u001b[1;31m# self.f is Callable\u001b[0m\u001b[1;33m\u001b[0m\u001b[1;33m\u001b[0m\u001b[1;33m\u001b[0m\u001b[0m\n\u001b[1;32m-> 1123\u001b[1;33m         \u001b[1;32mreturn\u001b[0m \u001b[0mself\u001b[0m\u001b[1;33m.\u001b[0m\u001b[0mapply_standard\u001b[0m\u001b[1;33m(\u001b[0m\u001b[1;33m)\u001b[0m\u001b[1;33m\u001b[0m\u001b[1;33m\u001b[0m\u001b[0m\n\u001b[0m\u001b[0;32m   1124\u001b[0m \u001b[1;33m\u001b[0m\u001b[0m\n\u001b[0;32m   1125\u001b[0m     \u001b[1;32mdef\u001b[0m \u001b[0magg\u001b[0m\u001b[1;33m(\u001b[0m\u001b[0mself\u001b[0m\u001b[1;33m)\u001b[0m\u001b[1;33m:\u001b[0m\u001b[1;33m\u001b[0m\u001b[1;33m\u001b[0m\u001b[0m\n",
      "\u001b[1;32mc:\\Users\\Marcos Eduardo\\AppData\\Local\\Programs\\Python\\Python39\\lib\\site-packages\\pandas\\core\\apply.py\u001b[0m in \u001b[0;36mapply_standard\u001b[1;34m(self)\u001b[0m\n\u001b[0;32m   1172\u001b[0m             \u001b[1;32melse\u001b[0m\u001b[1;33m:\u001b[0m\u001b[1;33m\u001b[0m\u001b[1;33m\u001b[0m\u001b[0m\n\u001b[0;32m   1173\u001b[0m                 \u001b[0mvalues\u001b[0m \u001b[1;33m=\u001b[0m \u001b[0mobj\u001b[0m\u001b[1;33m.\u001b[0m\u001b[0mastype\u001b[0m\u001b[1;33m(\u001b[0m\u001b[0mobject\u001b[0m\u001b[1;33m)\u001b[0m\u001b[1;33m.\u001b[0m\u001b[0m_values\u001b[0m\u001b[1;33m\u001b[0m\u001b[1;33m\u001b[0m\u001b[0m\n\u001b[1;32m-> 1174\u001b[1;33m                 mapped = lib.map_infer(\n\u001b[0m\u001b[0;32m   1175\u001b[0m                     \u001b[0mvalues\u001b[0m\u001b[1;33m,\u001b[0m\u001b[1;33m\u001b[0m\u001b[1;33m\u001b[0m\u001b[0m\n\u001b[0;32m   1176\u001b[0m                     \u001b[0mf\u001b[0m\u001b[1;33m,\u001b[0m\u001b[1;33m\u001b[0m\u001b[1;33m\u001b[0m\u001b[0m\n",
      "\u001b[1;32mc:\\Users\\Marcos Eduardo\\AppData\\Local\\Programs\\Python\\Python39\\lib\\site-packages\\pandas\\_libs\\lib.pyx\u001b[0m in \u001b[0;36mpandas._libs.lib.map_infer\u001b[1;34m()\u001b[0m\n",
      "\u001b[1;32mC:\\Users\\MARCOS~1\\AppData\\Local\\Temp/ipykernel_22484/3665908425.py\u001b[0m in \u001b[0;36m<lambda>\u001b[1;34m(row)\u001b[0m\n\u001b[1;32m----> 1\u001b[1;33m \u001b[0mdf\u001b[0m\u001b[1;33m[\u001b[0m\u001b[1;34m'hora_metaf'\u001b[0m\u001b[1;33m]\u001b[0m\u001b[1;33m.\u001b[0m\u001b[0mapply\u001b[0m\u001b[1;33m(\u001b[0m\u001b[1;32mlambda\u001b[0m \u001b[0mrow\u001b[0m\u001b[1;33m:\u001b[0m \u001b[0mrow\u001b[0m\u001b[1;33m[\u001b[0m\u001b[1;34m'hora_metar'\u001b[0m\u001b[1;33m]\u001b[0m \u001b[1;33m+\u001b[0m \u001b[0mtimedelta\u001b[0m\u001b[1;33m(\u001b[0m\u001b[0mhours\u001b[0m\u001b[1;33m=\u001b[0m\u001b[1;36m1\u001b[0m\u001b[1;33m)\u001b[0m \u001b[1;32mif\u001b[0m \u001b[0mpd\u001b[0m\u001b[1;33m.\u001b[0m\u001b[0misna\u001b[0m\u001b[1;33m(\u001b[0m\u001b[0mrow\u001b[0m\u001b[1;33m)\u001b[0m \u001b[1;32melse\u001b[0m \u001b[0mrow\u001b[0m\u001b[1;33m)\u001b[0m\u001b[1;33m\u001b[0m\u001b[1;33m\u001b[0m\u001b[0m\n\u001b[0m",
      "\u001b[1;31mTypeError\u001b[0m: 'float' object is not subscriptable"
     ]
    }
   ],
   "source": [
    "df['hora_metaf'].apply(lambda row: row['hora_metar'] + timedelta(hours=1) if pd.isna(row) else row)"
   ]
  },
  {
   "cell_type": "code",
   "execution_count": 66,
   "metadata": {},
   "outputs": [],
   "source": [
    "colunas = ['dt_dep', 'hora_ref', 'hora_esperas', 'hora_metar', 'hora_metaf', 'hora_tcp']\n",
    "for name in colunas:\n",
    "    df[name] = pd.to_datetime(df[name])"
   ]
  },
  {
   "cell_type": "code",
   "execution_count": 67,
   "metadata": {},
   "outputs": [],
   "source": [
    "    df[name] = df[name].apply(lambda x : x.timestamp()).astype(int)\n"
   ]
  },
  {
   "cell_type": "code",
   "execution_count": 49,
   "metadata": {},
   "outputs": [
    {
     "data": {
      "text/plain": [
       "0     1685446563\n",
       "1     1684484766\n",
       "2     1684756322\n",
       "3     1685376427\n",
       "4     1685052964\n",
       "         ...    \n",
       "95    1684533723\n",
       "96    1685562844\n",
       "97    1684595765\n",
       "98    1685532662\n",
       "99    1684589706\n",
       "Name: dt_dep, Length: 100, dtype: int32"
      ]
     },
     "execution_count": 49,
     "metadata": {},
     "output_type": "execute_result"
    }
   ],
   "source": []
  },
  {
   "cell_type": "code",
   "execution_count": 13,
   "metadata": {},
   "outputs": [],
   "source": [
    "bimtra = pd.read_csv('Dados/bimtra.csv')"
   ]
  },
  {
   "cell_type": "code",
   "execution_count": 19,
   "metadata": {},
   "outputs": [
    {
     "data": {
      "text/html": [
       "<div>\n",
       "<style scoped>\n",
       "    .dataframe tbody tr th:only-of-type {\n",
       "        vertical-align: middle;\n",
       "    }\n",
       "\n",
       "    .dataframe tbody tr th {\n",
       "        vertical-align: top;\n",
       "    }\n",
       "\n",
       "    .dataframe thead th {\n",
       "        text-align: right;\n",
       "    }\n",
       "</style>\n",
       "<table border=\"1\" class=\"dataframe\">\n",
       "  <thead>\n",
       "    <tr style=\"text-align: right;\">\n",
       "      <th></th>\n",
       "      <th>flightid</th>\n",
       "      <th>origem</th>\n",
       "      <th>destino</th>\n",
       "      <th>dt_dep</th>\n",
       "      <th>dt_arr</th>\n",
       "    </tr>\n",
       "  </thead>\n",
       "  <tbody>\n",
       "    <tr>\n",
       "      <th>0</th>\n",
       "      <td>fcb2bf90345705318213ae1307c0f901</td>\n",
       "      <td>SBKP</td>\n",
       "      <td>SBRJ</td>\n",
       "      <td>1970-01-01 00:27:34.044297</td>\n",
       "      <td>1654046760000</td>\n",
       "    </tr>\n",
       "    <tr>\n",
       "      <th>1</th>\n",
       "      <td>c7c5c10716335b048f86d8c52fcba3f2</td>\n",
       "      <td>SBGR</td>\n",
       "      <td>SBRJ</td>\n",
       "      <td>1970-01-01 00:27:34.045021</td>\n",
       "      <td>1654047173000</td>\n",
       "    </tr>\n",
       "    <tr>\n",
       "      <th>2</th>\n",
       "      <td>3162de7203a972f071d5a48e8f0f4828</td>\n",
       "      <td>SBBR</td>\n",
       "      <td>SBRJ</td>\n",
       "      <td>1970-01-01 00:27:34.043212</td>\n",
       "      <td>1654047825000</td>\n",
       "    </tr>\n",
       "    <tr>\n",
       "      <th>3</th>\n",
       "      <td>8fcd243e9b9eebbe62ab145ce04b6ab5</td>\n",
       "      <td>SBKP</td>\n",
       "      <td>SBCF</td>\n",
       "      <td>1970-01-01 00:27:34.045120</td>\n",
       "      <td>1654047701000</td>\n",
       "    </tr>\n",
       "    <tr>\n",
       "      <th>4</th>\n",
       "      <td>504a62621cd231d6ab67e674ce538cd3</td>\n",
       "      <td>SBCF</td>\n",
       "      <td>SBFL</td>\n",
       "      <td>1970-01-01 00:27:34.045238</td>\n",
       "      <td>1654050785000</td>\n",
       "    </tr>\n",
       "    <tr>\n",
       "      <th>...</th>\n",
       "      <td>...</td>\n",
       "      <td>...</td>\n",
       "      <td>...</td>\n",
       "      <td>...</td>\n",
       "      <td>...</td>\n",
       "    </tr>\n",
       "    <tr>\n",
       "      <th>300342</th>\n",
       "      <td>c4321a6a09b76969df53965fb5390f12</td>\n",
       "      <td>SBBR</td>\n",
       "      <td>SBRF</td>\n",
       "      <td>1970-01-01 00:28:03.980059</td>\n",
       "      <td>1683987623000</td>\n",
       "    </tr>\n",
       "    <tr>\n",
       "      <th>300343</th>\n",
       "      <td>e4f5686cce45083566945c8946e5d120</td>\n",
       "      <td>SBBR</td>\n",
       "      <td>SBGR</td>\n",
       "      <td>1970-01-01 00:28:03.970395</td>\n",
       "      <td>1683975521000</td>\n",
       "    </tr>\n",
       "    <tr>\n",
       "      <th>300344</th>\n",
       "      <td>04f65a7c44cf176215520b4c9b4eb37f</td>\n",
       "      <td>SBCF</td>\n",
       "      <td>SBRF</td>\n",
       "      <td>1970-01-01 00:28:03.996833</td>\n",
       "      <td>1684004424000</td>\n",
       "    </tr>\n",
       "    <tr>\n",
       "      <th>300345</th>\n",
       "      <td>f72a0718e581d01c695faeeff35d81f0</td>\n",
       "      <td>SBSV</td>\n",
       "      <td>SBGR</td>\n",
       "      <td>1970-01-01 00:28:03.955738</td>\n",
       "      <td>1683964481000</td>\n",
       "    </tr>\n",
       "    <tr>\n",
       "      <th>300346</th>\n",
       "      <td>f00b0016f0bd79eabb4201a32490bc19</td>\n",
       "      <td>SBGL</td>\n",
       "      <td>SBGR</td>\n",
       "      <td>1970-01-01 00:28:03.969750</td>\n",
       "      <td>1683972564000</td>\n",
       "    </tr>\n",
       "  </tbody>\n",
       "</table>\n",
       "<p>300347 rows × 5 columns</p>\n",
       "</div>"
      ],
      "text/plain": [
       "                                flightid origem destino  \\\n",
       "0       fcb2bf90345705318213ae1307c0f901   SBKP    SBRJ   \n",
       "1       c7c5c10716335b048f86d8c52fcba3f2   SBGR    SBRJ   \n",
       "2       3162de7203a972f071d5a48e8f0f4828   SBBR    SBRJ   \n",
       "3       8fcd243e9b9eebbe62ab145ce04b6ab5   SBKP    SBCF   \n",
       "4       504a62621cd231d6ab67e674ce538cd3   SBCF    SBFL   \n",
       "...                                  ...    ...     ...   \n",
       "300342  c4321a6a09b76969df53965fb5390f12   SBBR    SBRF   \n",
       "300343  e4f5686cce45083566945c8946e5d120   SBBR    SBGR   \n",
       "300344  04f65a7c44cf176215520b4c9b4eb37f   SBCF    SBRF   \n",
       "300345  f72a0718e581d01c695faeeff35d81f0   SBSV    SBGR   \n",
       "300346  f00b0016f0bd79eabb4201a32490bc19   SBGL    SBGR   \n",
       "\n",
       "                           dt_dep         dt_arr  \n",
       "0      1970-01-01 00:27:34.044297  1654046760000  \n",
       "1      1970-01-01 00:27:34.045021  1654047173000  \n",
       "2      1970-01-01 00:27:34.043212  1654047825000  \n",
       "3      1970-01-01 00:27:34.045120  1654047701000  \n",
       "4      1970-01-01 00:27:34.045238  1654050785000  \n",
       "...                           ...            ...  \n",
       "300342 1970-01-01 00:28:03.980059  1683987623000  \n",
       "300343 1970-01-01 00:28:03.970395  1683975521000  \n",
       "300344 1970-01-01 00:28:03.996833  1684004424000  \n",
       "300345 1970-01-01 00:28:03.955738  1683964481000  \n",
       "300346 1970-01-01 00:28:03.969750  1683972564000  \n",
       "\n",
       "[300347 rows x 5 columns]"
      ]
     },
     "execution_count": 19,
     "metadata": {},
     "output_type": "execute_result"
    }
   ],
   "source": [
    "bimtra"
   ]
  }
 ],
 "metadata": {
  "kernelspec": {
   "display_name": "Python 3",
   "language": "python",
   "name": "python3"
  },
  "language_info": {
   "codemirror_mode": {
    "name": "ipython",
    "version": 3
   },
   "file_extension": ".py",
   "mimetype": "text/x-python",
   "name": "python",
   "nbconvert_exporter": "python",
   "pygments_lexer": "ipython3",
   "version": "3.9.4"
  },
  "orig_nbformat": 4
 },
 "nbformat": 4,
 "nbformat_minor": 2
}
