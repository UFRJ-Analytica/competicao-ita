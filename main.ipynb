{
 "cells": [
  {
   "cell_type": "code",
   "execution_count": 1,
   "metadata": {},
   "outputs": [],
   "source": [
    "import pandas as pd"
   ]
  },
  {
   "cell_type": "code",
   "execution_count": 3,
   "metadata": {},
   "outputs": [],
   "source": [
    "df = pd.read_csv('idsc_test.csv')"
   ]
  },
  {
   "cell_type": "code",
   "execution_count": 6,
   "metadata": {},
   "outputs": [
    {
     "data": {
      "text/plain": [
       "0     http://satelite.cptec.inpe.br/repositoriogoes/...\n",
       "1     http://satelite.cptec.inpe.br/repositoriogoes/...\n",
       "2     http://satelite.cptec.inpe.br/repositoriogoes/...\n",
       "3     http://satelite.cptec.inpe.br/repositoriogoes/...\n",
       "4     http://satelite.cptec.inpe.br/repositoriogoes/...\n",
       "                            ...                        \n",
       "95    http://satelite.cptec.inpe.br/repositoriogoes/...\n",
       "96    http://satelite.cptec.inpe.br/repositoriogoes/...\n",
       "97    http://satelite.cptec.inpe.br/repositoriogoes/...\n",
       "98    http://satelite.cptec.inpe.br/repositoriogoes/...\n",
       "99    http://satelite.cptec.inpe.br/repositoriogoes/...\n",
       "Name: path, Length: 100, dtype: object"
      ]
     },
     "execution_count": 6,
     "metadata": {},
     "output_type": "execute_result"
    }
   ],
   "source": [
    "df['path']"
   ]
  }
 ],
 "metadata": {
  "kernelspec": {
   "display_name": "Python 3",
   "language": "python",
   "name": "python3"
  },
  "language_info": {
   "codemirror_mode": {
    "name": "ipython",
    "version": 3
   },
   "file_extension": ".py",
   "mimetype": "text/x-python",
   "name": "python",
   "nbconvert_exporter": "python",
   "pygments_lexer": "ipython3",
   "version": "3.9.4"
  },
  "orig_nbformat": 4
 },
 "nbformat": 4,
 "nbformat_minor": 2
}
