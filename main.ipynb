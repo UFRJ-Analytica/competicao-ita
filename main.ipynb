{
 "cells": [
  {
   "cell_type": "code",
   "execution_count": 1,
   "metadata": {},
   "outputs": [],
   "source": [
    "import pandas as pd\n",
    "import plotly.express as px\n",
    "import re"
   ]
  },
  {
   "cell_type": "code",
   "execution_count": 12,
   "metadata": {},
   "outputs": [],
   "source": [
    "df = pd.read_csv('idsc_test.csv')"
   ]
  },
  {
   "cell_type": "code",
   "execution_count": 13,
   "metadata": {},
   "outputs": [],
   "source": [
    "rota = df['snapshot_radar'].head(1).values[0]\n",
    "\n",
    "# Usando expressão regular para encontrar as coordenadas\n",
    "coordenadas = re.findall(r'-?\\d+\\.\\d+', rota)\n",
    "\n",
    "# Dividir as coordenadas em pares de longitude e latitude\n",
    "pares = [(float(coordenadas[i]), float(coordenadas[i+1])) for i in range(0, len(coordenadas), 2)]\n",
    "\n",
    "map = pd.DataFrame(pares, columns=['Latitude', 'Longitude'])"
   ]
  },
  {
   "cell_type": "code",
   "execution_count": 8,
   "metadata": {},
   "outputs": [
    {
     "data": {
      "application/vnd.plotly.v1+json": {
       "config": {
        "plotlyServerURL": "https://plot.ly"
       },
       "data": [
        {
         "hovertemplate": "Latitude=%{lat}<br>Longitude=%{lon}<extra></extra>",
         "lat": [
          -0.8807200448127578,
          -0.8789048021562952,
          -0.876762024253321,
          -0.8738531893916267,
          -0.8573909519898901,
          -0.8539572858551232,
          -0.8533564568678919,
          -0.8487534988439865,
          -0.8426436402619267,
          -0.8423688563699487,
          -0.8403380186294767,
          -0.8383545676990094,
          -0.8373081238795814,
          -0.835598920386639,
          -0.834667754668531,
          -0.832808761171133,
          -0.8262205640352507,
          -0.8258826573359833,
          -0.8253453087923434,
          -0.8251848493048803,
          -0.8232117102211185,
          -0.8224553690486008,
          -0.8191470544376581,
          -0.8191159996854411,
          -0.8185664915075357,
          -0.8171410128141192,
          -0.816347000617799,
          -0.8159383415368011,
          -0.815386270298732,
          -0.8142396883147655,
          -0.8124555004105198,
          -0.8118696921479692,
          -0.8105636639793953,
          -0.8097018200978101,
          -0.804891790655091,
          -0.8044675743949594,
          -0.80356031070303,
          -0.8034679809310834,
          -0.800338782501354,
          -0.7986990796630855,
          -0.7970937099098016,
          -0.7918695972355054,
          -0.7871174452676476,
          -0.7847343357697809,
          -0.7831747434631431,
          -0.7814560030021495,
          -0.7808876593123427,
          -0.7787191315956301,
          -0.7785444262621405,
          -0.7760057449729371,
          -0.7740393413728613,
          -0.7719265453131985,
          -0.7684102651926873,
          -0.7675190355282941,
          -0.7626274650087365,
          -0.7577417358821101,
          -0.7550297798046248,
          -0.7497371201724601,
          -0.7474301276008527,
          -0.7419380261243153,
          -0.7370257723052963,
          -0.728213792644054,
          -0.7184887078979509,
          -0.7139779604338913,
          -0.6279095656493013,
          -0.6115066958736839,
          -0.6092044717861023
         ],
         "legendgroup": "",
         "lon": [
          -0.5148453155362074,
          -0.5013445975297472,
          -0.4959619339782473,
          -0.4590921175548848,
          -0.4718235813694554,
          -0.4390371237784261,
          -0.4316651988057829,
          -0.4425344679023256,
          -0.4816395437848744,
          -0.4773306296345584,
          -0.2815383624654585,
          -0.2958281813861989,
          -0.4286627413466664,
          -0.278092333740894,
          -0.2786748320630782,
          -0.4306477413844735,
          -0.3969417785890999,
          -0.3664465744382968,
          -0.3702239182672785,
          -0.4456122892667372,
          -0.4010558611012904,
          -0.4016736722853863,
          -0.4004681179996155,
          -0.4279599408949146,
          -0.4101213730512894,
          -0.3980720285693425,
          -0.4099517521145792,
          -0.4599112865515863,
          -0.4140479546966879,
          -0.4124157852791633,
          -0.4135452306625523,
          -0.3076112937092265,
          -0.4121983355294842,
          -0.4177516332137323,
          -0.4123096380942439,
          -0.309914496902724,
          -0.4017767500823084,
          -0.3855673418679772,
          -0.3911374764863857,
          -0.4166448655416638,
          -0.36923652892839,
          -0.3624541946501969,
          -0.4035767524435349,
          -0.3686222937303105,
          -0.4132161505493953,
          -0.3672672334291717,
          -0.4021702277436437,
          -0.3685280962986624,
          -0.3595701619279895,
          -0.3523841584283144,
          -0.4111194605483434,
          -0.345794003598618,
          -0.3430383487743985,
          -0.4039912986224833,
          -0.4019071543723722,
          -0.3998018522049976,
          -0.3994884170306623,
          -0.3890212377617777,
          -0.3341061317031599,
          -0.3211000023626482,
          -0.3667550628319761,
          -0.3089714795903221,
          -0.294553103972293,
          -0.2630550443430806,
          -0.1684063381597106,
          -0.1413538847462903,
          -0.1427661310238076
         ],
         "marker": {
          "color": "#636efa"
         },
         "mode": "markers",
         "name": "",
         "showlegend": false,
         "subplot": "mapbox",
         "type": "scattermapbox"
        }
       ],
       "layout": {
        "height": 600,
        "legend": {
         "tracegroupgap": 0
        },
        "mapbox": {
         "center": {
          "lat": -0.7963330539709548,
          "lon": -0.38051243055572237
         },
         "domain": {
          "x": [
           0,
           1
          ],
          "y": [
           0,
           1
          ]
         },
         "style": "carto-positron",
         "zoom": 12.5
        },
        "margin": {
         "t": 60
        },
        "template": {
         "data": {
          "bar": [
           {
            "error_x": {
             "color": "#2a3f5f"
            },
            "error_y": {
             "color": "#2a3f5f"
            },
            "marker": {
             "line": {
              "color": "#E5ECF6",
              "width": 0.5
             },
             "pattern": {
              "fillmode": "overlay",
              "size": 10,
              "solidity": 0.2
             }
            },
            "type": "bar"
           }
          ],
          "barpolar": [
           {
            "marker": {
             "line": {
              "color": "#E5ECF6",
              "width": 0.5
             },
             "pattern": {
              "fillmode": "overlay",
              "size": 10,
              "solidity": 0.2
             }
            },
            "type": "barpolar"
           }
          ],
          "carpet": [
           {
            "aaxis": {
             "endlinecolor": "#2a3f5f",
             "gridcolor": "white",
             "linecolor": "white",
             "minorgridcolor": "white",
             "startlinecolor": "#2a3f5f"
            },
            "baxis": {
             "endlinecolor": "#2a3f5f",
             "gridcolor": "white",
             "linecolor": "white",
             "minorgridcolor": "white",
             "startlinecolor": "#2a3f5f"
            },
            "type": "carpet"
           }
          ],
          "choropleth": [
           {
            "colorbar": {
             "outlinewidth": 0,
             "ticks": ""
            },
            "type": "choropleth"
           }
          ],
          "contour": [
           {
            "colorbar": {
             "outlinewidth": 0,
             "ticks": ""
            },
            "colorscale": [
             [
              0,
              "#0d0887"
             ],
             [
              0.1111111111111111,
              "#46039f"
             ],
             [
              0.2222222222222222,
              "#7201a8"
             ],
             [
              0.3333333333333333,
              "#9c179e"
             ],
             [
              0.4444444444444444,
              "#bd3786"
             ],
             [
              0.5555555555555556,
              "#d8576b"
             ],
             [
              0.6666666666666666,
              "#ed7953"
             ],
             [
              0.7777777777777778,
              "#fb9f3a"
             ],
             [
              0.8888888888888888,
              "#fdca26"
             ],
             [
              1,
              "#f0f921"
             ]
            ],
            "type": "contour"
           }
          ],
          "contourcarpet": [
           {
            "colorbar": {
             "outlinewidth": 0,
             "ticks": ""
            },
            "type": "contourcarpet"
           }
          ],
          "heatmap": [
           {
            "colorbar": {
             "outlinewidth": 0,
             "ticks": ""
            },
            "colorscale": [
             [
              0,
              "#0d0887"
             ],
             [
              0.1111111111111111,
              "#46039f"
             ],
             [
              0.2222222222222222,
              "#7201a8"
             ],
             [
              0.3333333333333333,
              "#9c179e"
             ],
             [
              0.4444444444444444,
              "#bd3786"
             ],
             [
              0.5555555555555556,
              "#d8576b"
             ],
             [
              0.6666666666666666,
              "#ed7953"
             ],
             [
              0.7777777777777778,
              "#fb9f3a"
             ],
             [
              0.8888888888888888,
              "#fdca26"
             ],
             [
              1,
              "#f0f921"
             ]
            ],
            "type": "heatmap"
           }
          ],
          "heatmapgl": [
           {
            "colorbar": {
             "outlinewidth": 0,
             "ticks": ""
            },
            "colorscale": [
             [
              0,
              "#0d0887"
             ],
             [
              0.1111111111111111,
              "#46039f"
             ],
             [
              0.2222222222222222,
              "#7201a8"
             ],
             [
              0.3333333333333333,
              "#9c179e"
             ],
             [
              0.4444444444444444,
              "#bd3786"
             ],
             [
              0.5555555555555556,
              "#d8576b"
             ],
             [
              0.6666666666666666,
              "#ed7953"
             ],
             [
              0.7777777777777778,
              "#fb9f3a"
             ],
             [
              0.8888888888888888,
              "#fdca26"
             ],
             [
              1,
              "#f0f921"
             ]
            ],
            "type": "heatmapgl"
           }
          ],
          "histogram": [
           {
            "marker": {
             "pattern": {
              "fillmode": "overlay",
              "size": 10,
              "solidity": 0.2
             }
            },
            "type": "histogram"
           }
          ],
          "histogram2d": [
           {
            "colorbar": {
             "outlinewidth": 0,
             "ticks": ""
            },
            "colorscale": [
             [
              0,
              "#0d0887"
             ],
             [
              0.1111111111111111,
              "#46039f"
             ],
             [
              0.2222222222222222,
              "#7201a8"
             ],
             [
              0.3333333333333333,
              "#9c179e"
             ],
             [
              0.4444444444444444,
              "#bd3786"
             ],
             [
              0.5555555555555556,
              "#d8576b"
             ],
             [
              0.6666666666666666,
              "#ed7953"
             ],
             [
              0.7777777777777778,
              "#fb9f3a"
             ],
             [
              0.8888888888888888,
              "#fdca26"
             ],
             [
              1,
              "#f0f921"
             ]
            ],
            "type": "histogram2d"
           }
          ],
          "histogram2dcontour": [
           {
            "colorbar": {
             "outlinewidth": 0,
             "ticks": ""
            },
            "colorscale": [
             [
              0,
              "#0d0887"
             ],
             [
              0.1111111111111111,
              "#46039f"
             ],
             [
              0.2222222222222222,
              "#7201a8"
             ],
             [
              0.3333333333333333,
              "#9c179e"
             ],
             [
              0.4444444444444444,
              "#bd3786"
             ],
             [
              0.5555555555555556,
              "#d8576b"
             ],
             [
              0.6666666666666666,
              "#ed7953"
             ],
             [
              0.7777777777777778,
              "#fb9f3a"
             ],
             [
              0.8888888888888888,
              "#fdca26"
             ],
             [
              1,
              "#f0f921"
             ]
            ],
            "type": "histogram2dcontour"
           }
          ],
          "mesh3d": [
           {
            "colorbar": {
             "outlinewidth": 0,
             "ticks": ""
            },
            "type": "mesh3d"
           }
          ],
          "parcoords": [
           {
            "line": {
             "colorbar": {
              "outlinewidth": 0,
              "ticks": ""
             }
            },
            "type": "parcoords"
           }
          ],
          "pie": [
           {
            "automargin": true,
            "type": "pie"
           }
          ],
          "scatter": [
           {
            "fillpattern": {
             "fillmode": "overlay",
             "size": 10,
             "solidity": 0.2
            },
            "type": "scatter"
           }
          ],
          "scatter3d": [
           {
            "line": {
             "colorbar": {
              "outlinewidth": 0,
              "ticks": ""
             }
            },
            "marker": {
             "colorbar": {
              "outlinewidth": 0,
              "ticks": ""
             }
            },
            "type": "scatter3d"
           }
          ],
          "scattercarpet": [
           {
            "marker": {
             "colorbar": {
              "outlinewidth": 0,
              "ticks": ""
             }
            },
            "type": "scattercarpet"
           }
          ],
          "scattergeo": [
           {
            "marker": {
             "colorbar": {
              "outlinewidth": 0,
              "ticks": ""
             }
            },
            "type": "scattergeo"
           }
          ],
          "scattergl": [
           {
            "marker": {
             "colorbar": {
              "outlinewidth": 0,
              "ticks": ""
             }
            },
            "type": "scattergl"
           }
          ],
          "scattermapbox": [
           {
            "marker": {
             "colorbar": {
              "outlinewidth": 0,
              "ticks": ""
             }
            },
            "type": "scattermapbox"
           }
          ],
          "scatterpolar": [
           {
            "marker": {
             "colorbar": {
              "outlinewidth": 0,
              "ticks": ""
             }
            },
            "type": "scatterpolar"
           }
          ],
          "scatterpolargl": [
           {
            "marker": {
             "colorbar": {
              "outlinewidth": 0,
              "ticks": ""
             }
            },
            "type": "scatterpolargl"
           }
          ],
          "scatterternary": [
           {
            "marker": {
             "colorbar": {
              "outlinewidth": 0,
              "ticks": ""
             }
            },
            "type": "scatterternary"
           }
          ],
          "surface": [
           {
            "colorbar": {
             "outlinewidth": 0,
             "ticks": ""
            },
            "colorscale": [
             [
              0,
              "#0d0887"
             ],
             [
              0.1111111111111111,
              "#46039f"
             ],
             [
              0.2222222222222222,
              "#7201a8"
             ],
             [
              0.3333333333333333,
              "#9c179e"
             ],
             [
              0.4444444444444444,
              "#bd3786"
             ],
             [
              0.5555555555555556,
              "#d8576b"
             ],
             [
              0.6666666666666666,
              "#ed7953"
             ],
             [
              0.7777777777777778,
              "#fb9f3a"
             ],
             [
              0.8888888888888888,
              "#fdca26"
             ],
             [
              1,
              "#f0f921"
             ]
            ],
            "type": "surface"
           }
          ],
          "table": [
           {
            "cells": {
             "fill": {
              "color": "#EBF0F8"
             },
             "line": {
              "color": "white"
             }
            },
            "header": {
             "fill": {
              "color": "#C8D4E3"
             },
             "line": {
              "color": "white"
             }
            },
            "type": "table"
           }
          ]
         },
         "layout": {
          "annotationdefaults": {
           "arrowcolor": "#2a3f5f",
           "arrowhead": 0,
           "arrowwidth": 1
          },
          "autotypenumbers": "strict",
          "coloraxis": {
           "colorbar": {
            "outlinewidth": 0,
            "ticks": ""
           }
          },
          "colorscale": {
           "diverging": [
            [
             0,
             "#8e0152"
            ],
            [
             0.1,
             "#c51b7d"
            ],
            [
             0.2,
             "#de77ae"
            ],
            [
             0.3,
             "#f1b6da"
            ],
            [
             0.4,
             "#fde0ef"
            ],
            [
             0.5,
             "#f7f7f7"
            ],
            [
             0.6,
             "#e6f5d0"
            ],
            [
             0.7,
             "#b8e186"
            ],
            [
             0.8,
             "#7fbc41"
            ],
            [
             0.9,
             "#4d9221"
            ],
            [
             1,
             "#276419"
            ]
           ],
           "sequential": [
            [
             0,
             "#0d0887"
            ],
            [
             0.1111111111111111,
             "#46039f"
            ],
            [
             0.2222222222222222,
             "#7201a8"
            ],
            [
             0.3333333333333333,
             "#9c179e"
            ],
            [
             0.4444444444444444,
             "#bd3786"
            ],
            [
             0.5555555555555556,
             "#d8576b"
            ],
            [
             0.6666666666666666,
             "#ed7953"
            ],
            [
             0.7777777777777778,
             "#fb9f3a"
            ],
            [
             0.8888888888888888,
             "#fdca26"
            ],
            [
             1,
             "#f0f921"
            ]
           ],
           "sequentialminus": [
            [
             0,
             "#0d0887"
            ],
            [
             0.1111111111111111,
             "#46039f"
            ],
            [
             0.2222222222222222,
             "#7201a8"
            ],
            [
             0.3333333333333333,
             "#9c179e"
            ],
            [
             0.4444444444444444,
             "#bd3786"
            ],
            [
             0.5555555555555556,
             "#d8576b"
            ],
            [
             0.6666666666666666,
             "#ed7953"
            ],
            [
             0.7777777777777778,
             "#fb9f3a"
            ],
            [
             0.8888888888888888,
             "#fdca26"
            ],
            [
             1,
             "#f0f921"
            ]
           ]
          },
          "colorway": [
           "#636efa",
           "#EF553B",
           "#00cc96",
           "#ab63fa",
           "#FFA15A",
           "#19d3f3",
           "#FF6692",
           "#B6E880",
           "#FF97FF",
           "#FECB52"
          ],
          "font": {
           "color": "#2a3f5f"
          },
          "geo": {
           "bgcolor": "white",
           "lakecolor": "white",
           "landcolor": "#E5ECF6",
           "showlakes": true,
           "showland": true,
           "subunitcolor": "white"
          },
          "hoverlabel": {
           "align": "left"
          },
          "hovermode": "closest",
          "mapbox": {
           "style": "light"
          },
          "paper_bgcolor": "white",
          "plot_bgcolor": "#E5ECF6",
          "polar": {
           "angularaxis": {
            "gridcolor": "white",
            "linecolor": "white",
            "ticks": ""
           },
           "bgcolor": "#E5ECF6",
           "radialaxis": {
            "gridcolor": "white",
            "linecolor": "white",
            "ticks": ""
           }
          },
          "scene": {
           "xaxis": {
            "backgroundcolor": "#E5ECF6",
            "gridcolor": "white",
            "gridwidth": 2,
            "linecolor": "white",
            "showbackground": true,
            "ticks": "",
            "zerolinecolor": "white"
           },
           "yaxis": {
            "backgroundcolor": "#E5ECF6",
            "gridcolor": "white",
            "gridwidth": 2,
            "linecolor": "white",
            "showbackground": true,
            "ticks": "",
            "zerolinecolor": "white"
           },
           "zaxis": {
            "backgroundcolor": "#E5ECF6",
            "gridcolor": "white",
            "gridwidth": 2,
            "linecolor": "white",
            "showbackground": true,
            "ticks": "",
            "zerolinecolor": "white"
           }
          },
          "shapedefaults": {
           "line": {
            "color": "#2a3f5f"
           }
          },
          "ternary": {
           "aaxis": {
            "gridcolor": "white",
            "linecolor": "white",
            "ticks": ""
           },
           "baxis": {
            "gridcolor": "white",
            "linecolor": "white",
            "ticks": ""
           },
           "bgcolor": "#E5ECF6",
           "caxis": {
            "gridcolor": "white",
            "linecolor": "white",
            "ticks": ""
           }
          },
          "title": {
           "x": 0.05
          },
          "xaxis": {
           "automargin": true,
           "gridcolor": "white",
           "linecolor": "white",
           "ticks": "",
           "title": {
            "standoff": 15
           },
           "zerolinecolor": "white",
           "zerolinewidth": 2
          },
          "yaxis": {
           "automargin": true,
           "gridcolor": "white",
           "linecolor": "white",
           "ticks": "",
           "title": {
            "standoff": 15
           },
           "zerolinecolor": "white",
           "zerolinewidth": 2
          }
         }
        },
        "width": 900
       }
      }
     },
     "metadata": {},
     "output_type": "display_data"
    }
   ],
   "source": [
    "fig = px.scatter_mapbox(map, lat=\"Latitude\", lon=\"Longitude\", \n",
    "                        color_continuous_scale=px.colors.cyclical.IceFire,width=900, height=600, zoom=12.5, \n",
    "                        mapbox_style=\"carto-positron\")\n",
    "\n",
    "fig.show()"
   ]
  },
  {
   "cell_type": "code",
   "execution_count": 20,
   "metadata": {},
   "outputs": [
    {
     "data": {
      "text/plain": [
       "array(['METAR SBSV 301100Z 12009KT 9999 FEW023 28/21 Q1019=',\n",
       "       'METAR SBRJ 190800Z 02004KT 9999 FEW010 SCT040 BKN050 19/17 Q1019=',\n",
       "       'METAR SBGR 221100Z 07006KT CAVOK 13/12 Q1022=',\n",
       "       'METAR SBSP 291600Z 12010KT 090V160 9999 SCT015 SCT019 19/14 Q1023=',\n",
       "       'METAR SBKP 252200Z 09004KT CAVOK 23/13 Q1020=',\n",
       "       'METAR SBGR 240900Z 00000KT 5000 BR NSC 12/11 Q1022=',\n",
       "       'METAR SBKP 161900Z 16008KT CAVOK 25/08 Q1019=',\n",
       "       'METAR SBCT 270000Z 06003KT CAVOK 16/14 Q1021=',\n",
       "       'METAR SBSP 311500Z 17006KT 2000 -RA BR BKN004 OVC070 16/15 Q1022 RERA=',\n",
       "       'METAR SBRF 181700Z 15011KT 9999 SCT025 29/22 Q1013=',\n",
       "       'METAR SBSV 181100Z 14008KT 9999 VCSH SCT023 FEW023TCU 28/23 Q1017=',\n",
       "       'METAR SBBR 221400Z 10005KT CAVOK 23/09 Q1022=',\n",
       "       'METAR SBCF 170000Z 21004KT CAVOK 20/09 Q1020=',\n",
       "       'METAR SBRJ 311600Z 31004KT 9999 -RA SCT015 OVC090 22/19 Q1018=',\n",
       "       'METAR SBRJ 311600Z 31004KT 9999 -RA SCT015 OVC090 22/19 Q1018=',\n",
       "       'METAR SBSP 291400Z 15011KT 120V180 9999 SCT009 BKN013 BKN020 17/14 Q1024=',\n",
       "       'METAR SBBR 191000Z VRB01KT CAVOK 13/09 Q1022=',\n",
       "       'METAR SBSP 162000Z 18011KT 9999 FEW025 18/11 Q1022=',\n",
       "       'METAR SBPA 310000Z VRB02KT CAVOK 17/15 Q1019=',\n",
       "       'METAR SBCF 220100Z 16002KT CAVOK 16/11 Q1022=',\n",
       "       'METAR SBGR 161800Z 17007KT CAVOK 22/10 Q1020=',\n",
       "       'METAR SBSP 181900Z 15009KT CAVOK 19/11 Q1023=',\n",
       "       'METAR SBSP 270000Z 06007KT 030V090 CAVOK 22/13 Q1022=',\n",
       "       'METAR SBGR 271300Z 07007KT CAVOK 20/16 Q1022=',\n",
       "       'METAR SBGL 301600Z 15007KT 9999 SCT018 BKN040 23/16 Q1022=',\n",
       "       'METAR SBCT 191000Z 10001KT 0900 R15/0900 R33/0900 FG VV001 09/09 Q1023=',\n",
       "       'METAR SBPA 292000Z 17006KT 140V200 9999 FEW033 18/13 Q1022=',\n",
       "       'METAR SBBR 242000Z 10010KT 9999 SCT045 24/12 Q1019=',\n",
       "       'METAR SBBR 231900Z 07008KT 9999 SCT045 24/11 Q1019=',\n",
       "       'METAR SBGR 231300Z 00000KT CAVOK 21/14 Q1025=',\n",
       "       'METAR SBCF 220900Z 17002KT 9999 FEW030 13/11 Q1021=',\n",
       "       'METAR SBKP 211100Z 11005KT CAVOK 14/10 Q1019=',\n",
       "       'METAR SBGR 221300Z 07009KT CAVOK 18/13 Q1023=',\n",
       "       'METAR SBCT 231100Z 10002KT 5000 BR FEW004 11/11 Q1024=',\n",
       "       'METAR SBCT 150000Z 13004KT 9000 NSC 12/11 Q1024=',\n",
       "       'METAR SBGR 151300Z 00000KT 7000 NSC 18/10 Q1024=',\n",
       "       'METAR SBSP 231000Z 06004KT 040V110 CAVOK 16/13 Q1024=',\n",
       "       'METAR SBFL 222000Z 36010KT CAVOK 23/17 Q1016=',\n",
       "       'METAR SBGL 190000Z 25003KT 210V290 CAVOK 20/16 Q1021=',\n",
       "       'METAR SBGR 300100Z 13007KT 9999 OVC013 16/14 Q1024=',\n",
       "       'METAR SBRJ 161300Z 36006KT CAVOK 22/17 Q1018=',\n",
       "       'METAR SBFL 300000Z 23001KT CAVOK 18/14 Q1024=',\n",
       "       'METAR SBKP 271300Z 36010KT 310V060 CAVOK 23/15 Q1022=',\n",
       "       'METAR SBRF 291700Z 18012KT 9999 VCSH BKN017 BKN050 28/22 Q1012=',\n",
       "       'METAR SBGR 210000Z 20001KT 6000 NSC 14/13 Q1021=',\n",
       "       'METAR SBCF 281800Z 24004KT 9999 SCT045 27/11 Q1018=',\n",
       "       'METAR SBCF 151700Z 22010KT 9999 SCT045 28/11 Q1019=',\n",
       "       'METAR SBGR 171600Z 11006KT 070V180 9999 SCT036 20/10 Q1022=',\n",
       "       'METAR SBBR 210000Z 19002KT CAVOK 19/10 Q1020=',\n",
       "       'METAR SBSP 231300Z 03003KT 330V080 9000 NSC 21/13 Q1025=',\n",
       "       'METAR SBCT 241600Z 05009KT 360V080 9999 FEW030 21/12 Q1021=',\n",
       "       'METAR SBKP 252300Z 13008KT CAVOK 21/14 Q1021=',\n",
       "       'METAR SBBR 300800Z 10001KT CAVOK 18/13 Q1020=',\n",
       "       'METAR SBPA 201200Z VRB01KT 4000 BR FEW002 14/14 Q1018=',\n",
       "       'METAR SBSP 301500Z 09006KT 050V130 9999 BKN019 OVC021 18/13 Q1025=',\n",
       "       'METAR SBRJ 312200Z 31004KT 240V340 9999 FEW007 SCT010 BKN100 20/19 Q1017=',\n",
       "       'METAR SBCF 280800Z 16003KT CAVOK 15/13 Q1020=',\n",
       "       'METAR SBSV 191300Z 16010KT 8000 VCSH BKN015 FEW023TCU BKN060 28/21 Q1018=',\n",
       "       'METAR SBSP 251200Z 06010KT 020V100 9999 FEW009 18/15 Q1025=',\n",
       "       'METAR SBRJ 241200Z 35003KT 9999 FEW030 SCT090 24/19 Q1021=',\n",
       "       'METAR SBGR 150100Z 00000KT 9000 OVC015 16/14 Q1023=',\n",
       "       'METAR SBGR 310200Z 08006KT 9000 -RA OVC011 16/15 Q1023=',\n",
       "       'METAR SBCF 221300Z 05009KT 9999 SCT025 21/12 Q1024=',\n",
       "       'METAR SBRJ 271200Z 33004KT 300V360 CAVOK 22/18 Q1019=',\n",
       "       'METAR SBBR 282000Z 15007KT 9999 SCT040 26/13 Q1018=',\n",
       "       'METAR SBBR 192100Z 17006KT CAVOK 24/09 Q1019=',\n",
       "       'METAR SBPA 290900Z 15002KT 8000 SCT009 09/09 Q1023=',\n",
       "       'METAR SBKP 271300Z 36010KT 310V060 CAVOK 23/15 Q1022=',\n",
       "       'METAR SBGR 270800Z 08004KT CAVOK 14/14 Q1021=',\n",
       "       'METAR SBRJ 251100Z 02003KT 340V070 CAVOK 22/19 Q1021=',\n",
       "       'METAR SBGL 280900Z 35003KT 9000 NSC 18/17 Q1015=',\n",
       "       'METAR SBRF 261200Z 11009KT 9999 4500E -RA BKN016 BKN023 26/23 Q1014=',\n",
       "       'METAR SBSP 311100Z 08006KT 020V120 4000 -RA BR BKN005 OVC070 15/15 Q1022=',\n",
       "       'METAR SBBR 291300Z 05006KT 010V080 CAVOK 25/13 Q1021=',\n",
       "       'METAR SBGR 152100Z 12005KT CAVOK 18/09 Q1021=',\n",
       "       'METAR SBBR 312100Z 16005KT 9999 FEW045 BKN100 24/16 Q1021=',\n",
       "       'METAR SBRJ 272100Z 19006KT CAVOK 24/17 Q1015=',\n",
       "       'METAR SBSP 191400Z 09005KT 340V130 CAVOK 18/10 Q1024=',\n",
       "       'METAR COR SBKP 151300Z 14004KT 9999 4000SE NSC 18/10 Q1024=',\n",
       "       'METAR SBRJ 311500Z 02002KT 9999 -RA FEW018 SCT030 OVC090 21/18 Q1019=',\n",
       "       'METAR SBRF 250100Z 20004KT 170V230 9999 FEW013 SCT018 25/23 Q1013=',\n",
       "       'METAR SBRJ 232100Z 18008KT 9999 FEW025 SCT100 24/21 Q1018=',\n",
       "       'METAR SBKP 161800Z 21007KT 160V260 CAVOK 25/04 Q1018=',\n",
       "       'METAR SBCT 221000Z 09003KT 0600 R15/0650 R33/0900 FG OVC004 12/12 Q1020=',\n",
       "       'METAR SBBR 161300Z 13004KT 060V190 CAVOK 24/12 Q1022=',\n",
       "       'METAR SBRJ 181500Z 02004KT 9999 SCT025 SCT050 23/18 Q1021=',\n",
       "       'METAR SBSV 221300Z 16012KT 9999 SCT020 SCT080 29/22 Q1017=',\n",
       "       'METAR SBSP 301100Z 13009KT 9999 SCT007 OVC010 15/13 Q1026=',\n",
       "       'METAR SBRJ 281700Z 15009KT CAVOK 26/20 Q1013=',\n",
       "       'METAR SBSP 220800Z AUTO 07003KT CAVOK 15/13 Q1020=',\n",
       "       'METAR SBSP 242200Z 16008KT 8000 FEW007 18/17 Q1023=',\n",
       "       'METAR SBKP 251300Z 07007KT 360V100 CAVOK 23/14 Q1024=',\n",
       "       'METAR SBGR 300600Z 11008KT 9999 OVC010 15/13 Q1023=',\n",
       "       'METAR SBCT 181500Z 07005KT 9999 FEW015 16/12 Q1025=',\n",
       "       'METAR SBSP 232100Z 13007KT CAVOK 20/12 Q1023=',\n",
       "       'METAR SBGR 192200Z 14003KT CAVOK 16/13 Q1021=',\n",
       "       'METAR SBKP 311900Z 24005KT 5000 2000S -RA BR BKN007 OVC030 18/17 Q1020=',\n",
       "       'METAR SBRJ 201500Z 34003KT 250V040 CAVOK 23/16 Q1019=',\n",
       "       'METAR SBSP 311100Z 08006KT 020V120 4000 -RA BR BKN005 OVC070 15/15 Q1022=',\n",
       "       'METAR SBCT 201300Z VRB01KT 7000 FEW006 11/11 Q1023='],\n",
       "      dtype=object)"
      ]
     },
     "execution_count": 20,
     "metadata": {},
     "output_type": "execute_result"
    }
   ],
   "source": [
    "df['metar'].values"
   ]
  },
  {
   "cell_type": "code",
   "execution_count": 18,
   "metadata": {},
   "outputs": [
    {
     "data": {
      "text/html": [
       "<div>\n",
       "<style scoped>\n",
       "    .dataframe tbody tr th:only-of-type {\n",
       "        vertical-align: middle;\n",
       "    }\n",
       "\n",
       "    .dataframe tbody tr th {\n",
       "        vertical-align: top;\n",
       "    }\n",
       "\n",
       "    .dataframe thead th {\n",
       "        text-align: right;\n",
       "    }\n",
       "</style>\n",
       "<table border=\"1\" class=\"dataframe\">\n",
       "  <thead>\n",
       "    <tr style=\"text-align: right;\">\n",
       "      <th></th>\n",
       "      <th>0</th>\n",
       "      <th>1</th>\n",
       "    </tr>\n",
       "  </thead>\n",
       "  <tbody>\n",
       "    <tr>\n",
       "      <th>flightid</th>\n",
       "      <td>7945735584a3297121c4f5ae0de8ecd1</td>\n",
       "      <td>85cb958e8b9d583575cd9cb93e389226</td>\n",
       "    </tr>\n",
       "    <tr>\n",
       "      <th>origem</th>\n",
       "      <td>SBKP</td>\n",
       "      <td>SBFL</td>\n",
       "    </tr>\n",
       "    <tr>\n",
       "      <th>destino</th>\n",
       "      <td>SBSV</td>\n",
       "      <td>SBRJ</td>\n",
       "    </tr>\n",
       "    <tr>\n",
       "      <th>dt_dep</th>\n",
       "      <td>2023-05-30 11:36:03.000</td>\n",
       "      <td>2023-05-19 08:26:06.000</td>\n",
       "    </tr>\n",
       "    <tr>\n",
       "      <th>hora_ref</th>\n",
       "      <td>2023-05-30 11:00:00.000</td>\n",
       "      <td>2023-05-19 08:00:00.000</td>\n",
       "    </tr>\n",
       "    <tr>\n",
       "      <th>snapshot_radar</th>\n",
       "      <td>MULTIPOINT ((-0.8807200448127578 -0.5148453155...</td>\n",
       "      <td>MULTIPOINT ((-0.8826266039383116 -0.4926305156...</td>\n",
       "    </tr>\n",
       "    <tr>\n",
       "      <th>path</th>\n",
       "      <td>http://satelite.cptec.inpe.br/repositoriogoes/...</td>\n",
       "      <td>http://satelite.cptec.inpe.br/repositoriogoes/...</td>\n",
       "    </tr>\n",
       "    <tr>\n",
       "      <th>hora_esperas</th>\n",
       "      <td>2023-05-30 10:00:00.000</td>\n",
       "      <td>2023-05-19 07:00:00.000</td>\n",
       "    </tr>\n",
       "    <tr>\n",
       "      <th>esperas</th>\n",
       "      <td>0</td>\n",
       "      <td>0</td>\n",
       "    </tr>\n",
       "    <tr>\n",
       "      <th>aero_esperas</th>\n",
       "      <td>SBSV</td>\n",
       "      <td>SBRJ</td>\n",
       "    </tr>\n",
       "    <tr>\n",
       "      <th>hora_metaf</th>\n",
       "      <td>NaN</td>\n",
       "      <td>2023-05-19 09:00:00.000</td>\n",
       "    </tr>\n",
       "    <tr>\n",
       "      <th>metaf</th>\n",
       "      <td>NaN</td>\n",
       "      <td>METAF SBRJ 190900Z  33004KT 9999       BKN033 ...</td>\n",
       "    </tr>\n",
       "    <tr>\n",
       "      <th>aero_metaf</th>\n",
       "      <td>NaN</td>\n",
       "      <td>SBRJ</td>\n",
       "    </tr>\n",
       "    <tr>\n",
       "      <th>hora_metar</th>\n",
       "      <td>2023-05-30 11:00:00.000</td>\n",
       "      <td>2023-05-19 08:00:00.000</td>\n",
       "    </tr>\n",
       "    <tr>\n",
       "      <th>metar</th>\n",
       "      <td>METAR SBSV 301100Z 12009KT 9999 FEW023 28/21 Q...</td>\n",
       "      <td>METAR SBRJ 190800Z 02004KT 9999 FEW010 SCT040 ...</td>\n",
       "    </tr>\n",
       "    <tr>\n",
       "      <th>aero_metar</th>\n",
       "      <td>SBSV</td>\n",
       "      <td>SBRJ</td>\n",
       "    </tr>\n",
       "    <tr>\n",
       "      <th>hora_tcp</th>\n",
       "      <td>2023-05-30 12:00:00.000</td>\n",
       "      <td>2023-05-19 09:00:00.000</td>\n",
       "    </tr>\n",
       "    <tr>\n",
       "      <th>troca</th>\n",
       "      <td>0</td>\n",
       "      <td>0</td>\n",
       "    </tr>\n",
       "    <tr>\n",
       "      <th>aero_tcp</th>\n",
       "      <td>SBSV</td>\n",
       "      <td>SBRJ</td>\n",
       "    </tr>\n",
       "    <tr>\n",
       "      <th>hora_tcr</th>\n",
       "      <td>NaN</td>\n",
       "      <td>NaN</td>\n",
       "    </tr>\n",
       "    <tr>\n",
       "      <th>aero_tcr</th>\n",
       "      <td>NaN</td>\n",
       "      <td>NaN</td>\n",
       "    </tr>\n",
       "  </tbody>\n",
       "</table>\n",
       "</div>"
      ],
      "text/plain": [
       "                                                                0  \\\n",
       "flightid                         7945735584a3297121c4f5ae0de8ecd1   \n",
       "origem                                                       SBKP   \n",
       "destino                                                      SBSV   \n",
       "dt_dep                                    2023-05-30 11:36:03.000   \n",
       "hora_ref                                  2023-05-30 11:00:00.000   \n",
       "snapshot_radar  MULTIPOINT ((-0.8807200448127578 -0.5148453155...   \n",
       "path            http://satelite.cptec.inpe.br/repositoriogoes/...   \n",
       "hora_esperas                              2023-05-30 10:00:00.000   \n",
       "esperas                                                         0   \n",
       "aero_esperas                                                 SBSV   \n",
       "hora_metaf                                                    NaN   \n",
       "metaf                                                         NaN   \n",
       "aero_metaf                                                    NaN   \n",
       "hora_metar                                2023-05-30 11:00:00.000   \n",
       "metar           METAR SBSV 301100Z 12009KT 9999 FEW023 28/21 Q...   \n",
       "aero_metar                                                   SBSV   \n",
       "hora_tcp                                  2023-05-30 12:00:00.000   \n",
       "troca                                                           0   \n",
       "aero_tcp                                                     SBSV   \n",
       "hora_tcr                                                      NaN   \n",
       "aero_tcr                                                      NaN   \n",
       "\n",
       "                                                                1  \n",
       "flightid                         85cb958e8b9d583575cd9cb93e389226  \n",
       "origem                                                       SBFL  \n",
       "destino                                                      SBRJ  \n",
       "dt_dep                                    2023-05-19 08:26:06.000  \n",
       "hora_ref                                  2023-05-19 08:00:00.000  \n",
       "snapshot_radar  MULTIPOINT ((-0.8826266039383116 -0.4926305156...  \n",
       "path            http://satelite.cptec.inpe.br/repositoriogoes/...  \n",
       "hora_esperas                              2023-05-19 07:00:00.000  \n",
       "esperas                                                         0  \n",
       "aero_esperas                                                 SBRJ  \n",
       "hora_metaf                                2023-05-19 09:00:00.000  \n",
       "metaf           METAF SBRJ 190900Z  33004KT 9999       BKN033 ...  \n",
       "aero_metaf                                                   SBRJ  \n",
       "hora_metar                                2023-05-19 08:00:00.000  \n",
       "metar           METAR SBRJ 190800Z 02004KT 9999 FEW010 SCT040 ...  \n",
       "aero_metar                                                   SBRJ  \n",
       "hora_tcp                                  2023-05-19 09:00:00.000  \n",
       "troca                                                           0  \n",
       "aero_tcp                                                     SBRJ  \n",
       "hora_tcr                                                      NaN  \n",
       "aero_tcr                                                      NaN  "
      ]
     },
     "execution_count": 18,
     "metadata": {},
     "output_type": "execute_result"
    }
   ],
   "source": [
    "df.head(2).T"
   ]
  }
 ],
 "metadata": {
  "kernelspec": {
   "display_name": "Python 3",
   "language": "python",
   "name": "python3"
  },
  "language_info": {
   "codemirror_mode": {
    "name": "ipython",
    "version": 3
   },
   "file_extension": ".py",
   "mimetype": "text/x-python",
   "name": "python",
   "nbconvert_exporter": "python",
   "pygments_lexer": "ipython3",
   "version": "3.9.13"
  },
  "orig_nbformat": 4
 },
 "nbformat": 4,
 "nbformat_minor": 2
}
