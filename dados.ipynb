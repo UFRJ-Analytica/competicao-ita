{
 "cells": [
  {
   "cell_type": "code",
   "execution_count": 4,
   "metadata": {},
   "outputs": [],
   "source": [
    "import pandas as pd\n",
    "import requests"
   ]
  },
  {
   "cell_type": "code",
   "execution_count": 5,
   "metadata": {},
   "outputs": [],
   "source": [
    "def get_dados(base, idate = '2022-06-01', fdate = '2023-05-13'):\n",
    "    url = f'http://montreal.icea.decea.mil.br:5002/api/v1/{base}?token=a779d04f85c4bf6cfa586d30aaec57c44e9b7173&idate={idate}&fdate={fdate}'\n",
    "    headers = {'token': 'a779d04f85c4bf6cfa586d30aaec57c44e9b7173'}\n",
    "    response = requests.get(url,headers)\n",
    "    response.raise_for_status()\n",
    "    data = response.json()\n",
    "    return pd.DataFrame(data)"
   ]
  },
  {
   "cell_type": "markdown",
   "metadata": {},
   "source": [
    "## 1. BIMTRA (Banco de Informações de Movimento de Tráfego Aéreo)"
   ]
  },
  {
   "cell_type": "code",
   "execution_count": 6,
   "metadata": {},
   "outputs": [],
   "source": [
    "df = get_dados('bimtra')\n",
    "df.to_csv('Dados/bimtra.csv', index=False)"
   ]
  },
  {
   "cell_type": "markdown",
   "metadata": {},
   "source": [
    "## 2. CAT-62 (Dados de Síntese Radar)"
   ]
  },
  {
   "cell_type": "code",
   "execution_count": 7,
   "metadata": {},
   "outputs": [
    {
     "data": {
      "text/plain": [
       "92275"
      ]
     },
     "execution_count": 7,
     "metadata": {},
     "output_type": "execute_result"
    }
   ],
   "source": [
    "idate = '2022-06-01 00:00:00.000'\n",
    "fdate = '2022-06-01 23:00:00.000'\n",
    "base = 'cat-62'\n",
    "url = f'http://montreal.icea.decea.mil.br:5002/api/v1/{base}?token=a779d04f85c4bf6cfa586d30aaec57c44e9b7173&idate={idate}&fdate={fdate}'\n",
    "headers = {'token': 'a779d04f85c4bf6cfa586d30aaec57c44e9b7173'}\n",
    "response = requests.get(url,headers)\n",
    "response.raise_for_status()\n",
    "\n",
    "data = response.json()\n",
    "len(data)"
   ]
  },
  {
   "cell_type": "markdown",
   "metadata": {},
   "source": [
    "## 3. Esperas (Dados de Quantidades de Esperas em voo por hora)"
   ]
  },
  {
   "cell_type": "code",
   "execution_count": 8,
   "metadata": {},
   "outputs": [],
   "source": [
    "df = get_dados('esperas')\n",
    "df.to_csv('Dados/esperas.csv', index=False)"
   ]
  },
  {
   "cell_type": "markdown",
   "metadata": {},
   "source": [
    "## 4. METAF (Terminal Aerodrome Forecast)"
   ]
  },
  {
   "cell_type": "code",
   "execution_count": 9,
   "metadata": {},
   "outputs": [],
   "source": [
    "df = get_dados('metaf')\n",
    "df.to_csv('Dados/metaf.csv', index=False)"
   ]
  },
  {
   "cell_type": "markdown",
   "metadata": {},
   "source": [
    "## 5. METAR (Relatório Meteorológico de Aeródromo)"
   ]
  },
  {
   "cell_type": "code",
   "execution_count": 10,
   "metadata": {},
   "outputs": [],
   "source": [
    "df = get_dados('metar')\n",
    "df.to_csv('Dados/metar.csv', index=False)"
   ]
  },
  {
   "cell_type": "markdown",
   "metadata": {},
   "source": [
    "## 6. Satélite Meteorológico"
   ]
  },
  {
   "cell_type": "code",
   "execution_count": 11,
   "metadata": {},
   "outputs": [],
   "source": [
    "df = get_dados('satelite')\n",
    "df.to_csv('Dados/satelite.csv', index=False)"
   ]
  },
  {
   "cell_type": "markdown",
   "metadata": {},
   "source": [
    "## 7. Previsão da Troca de Cabeceiras de Aeródromo"
   ]
  },
  {
   "cell_type": "code",
   "execution_count": 12,
   "metadata": {},
   "outputs": [],
   "source": [
    "df = get_dados('tc-prev')\n",
    "df.to_csv('Dados/tc-prev.csv', index=False)"
   ]
  },
  {
   "cell_type": "markdown",
   "metadata": {},
   "source": [
    "## 8. Histórico da Troca de Cabeceiras de Aeródromo"
   ]
  },
  {
   "cell_type": "code",
   "execution_count": 15,
   "metadata": {},
   "outputs": [],
   "source": [
    "df = get_dados('tc-real')\n",
    "df.to_csv('Dados/tc-real.csv', index=False)"
   ]
  },
  {
   "cell_type": "code",
   "execution_count": 16,
   "metadata": {},
   "outputs": [
    {
     "data": {
      "text/html": [
       "<div>\n",
       "<style scoped>\n",
       "    .dataframe tbody tr th:only-of-type {\n",
       "        vertical-align: middle;\n",
       "    }\n",
       "\n",
       "    .dataframe tbody tr th {\n",
       "        vertical-align: top;\n",
       "    }\n",
       "\n",
       "    .dataframe thead th {\n",
       "        text-align: right;\n",
       "    }\n",
       "</style>\n",
       "<table border=\"1\" class=\"dataframe\">\n",
       "  <thead>\n",
       "    <tr style=\"text-align: right;\">\n",
       "      <th></th>\n",
       "      <th>hora</th>\n",
       "      <th>nova_cabeceira</th>\n",
       "      <th>antiga_cabeceira</th>\n",
       "      <th>aero</th>\n",
       "    </tr>\n",
       "  </thead>\n",
       "  <tbody>\n",
       "    <tr>\n",
       "      <th>0</th>\n",
       "      <td>1654092843000</td>\n",
       "      <td>32</td>\n",
       "      <td>03</td>\n",
       "      <td>FL</td>\n",
       "    </tr>\n",
       "    <tr>\n",
       "      <th>1</th>\n",
       "      <td>1654109470000</td>\n",
       "      <td>18</td>\n",
       "      <td>12</td>\n",
       "      <td>RF</td>\n",
       "    </tr>\n",
       "    <tr>\n",
       "      <th>2</th>\n",
       "      <td>1654110745000</td>\n",
       "      <td>16</td>\n",
       "      <td>13</td>\n",
       "      <td>CF</td>\n",
       "    </tr>\n",
       "    <tr>\n",
       "      <th>3</th>\n",
       "      <td>1654110758000</td>\n",
       "      <td>15</td>\n",
       "      <td>26</td>\n",
       "      <td>GL</td>\n",
       "    </tr>\n",
       "    <tr>\n",
       "      <th>4</th>\n",
       "      <td>1654110777000</td>\n",
       "      <td>15</td>\n",
       "      <td>26</td>\n",
       "      <td>GL</td>\n",
       "    </tr>\n",
       "    <tr>\n",
       "      <th>...</th>\n",
       "      <td>...</td>\n",
       "      <td>...</td>\n",
       "      <td>...</td>\n",
       "      <td>...</td>\n",
       "    </tr>\n",
       "    <tr>\n",
       "      <th>33426</th>\n",
       "      <td>1683991948000</td>\n",
       "      <td>14</td>\n",
       "      <td>08</td>\n",
       "      <td>FL</td>\n",
       "    </tr>\n",
       "    <tr>\n",
       "      <th>33427</th>\n",
       "      <td>1684015596000</td>\n",
       "      <td>17R</td>\n",
       "      <td>12</td>\n",
       "      <td>SP</td>\n",
       "    </tr>\n",
       "    <tr>\n",
       "      <th>33428</th>\n",
       "      <td>1683992504000</td>\n",
       "      <td>15</td>\n",
       "      <td>26</td>\n",
       "      <td>CT</td>\n",
       "    </tr>\n",
       "    <tr>\n",
       "      <th>33429</th>\n",
       "      <td>1684017668000</td>\n",
       "      <td>17R</td>\n",
       "      <td>12</td>\n",
       "      <td>SP</td>\n",
       "    </tr>\n",
       "    <tr>\n",
       "      <th>33430</th>\n",
       "      <td>1683993443000</td>\n",
       "      <td>10</td>\n",
       "      <td>28</td>\n",
       "      <td>SV</td>\n",
       "    </tr>\n",
       "  </tbody>\n",
       "</table>\n",
       "<p>33431 rows × 4 columns</p>\n",
       "</div>"
      ],
      "text/plain": [
       "                hora nova_cabeceira antiga_cabeceira aero\n",
       "0      1654092843000             32               03   FL\n",
       "1      1654109470000             18               12   RF\n",
       "2      1654110745000             16               13   CF\n",
       "3      1654110758000             15               26   GL\n",
       "4      1654110777000             15               26   GL\n",
       "...              ...            ...              ...  ...\n",
       "33426  1683991948000             14               08   FL\n",
       "33427  1684015596000            17R               12   SP\n",
       "33428  1683992504000             15               26   CT\n",
       "33429  1684017668000            17R               12   SP\n",
       "33430  1683993443000             10               28   SV\n",
       "\n",
       "[33431 rows x 4 columns]"
      ]
     },
     "execution_count": 16,
     "metadata": {},
     "output_type": "execute_result"
    }
   ],
   "source": [
    "df"
   ]
  }
 ],
 "metadata": {
  "kernelspec": {
   "display_name": "Python 3",
   "language": "python",
   "name": "python3"
  },
  "language_info": {
   "codemirror_mode": {
    "name": "ipython",
    "version": 3
   },
   "file_extension": ".py",
   "mimetype": "text/x-python",
   "name": "python",
   "nbconvert_exporter": "python",
   "pygments_lexer": "ipython3",
   "version": "3.9.4"
  },
  "orig_nbformat": 4
 },
 "nbformat": 4,
 "nbformat_minor": 2
}
