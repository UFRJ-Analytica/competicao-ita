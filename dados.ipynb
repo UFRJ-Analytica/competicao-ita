{
 "cells": [
  {
   "cell_type": "code",
   "execution_count": 6,
   "metadata": {},
   "outputs": [],
   "source": [
    "import pandas as pd\n",
    "import requests"
   ]
  },
  {
   "cell_type": "code",
   "execution_count": 7,
   "metadata": {},
   "outputs": [],
   "source": [
    "def get_dados(base, idate = '2022-06-01', fdate = '2023-05-13'):\n",
    "    url = f'http://montreal.icea.decea.mil.br:5002/api/v1/{base}?token=a779d04f85c4bf6cfa586d30aaec57c44e9b7173&idate={idate}&fdate={fdate}'\n",
    "    headers = {'token': 'a779d04f85c4bf6cfa586d30aaec57c44e9b7173'}\n",
    "    response = requests.get(url,headers)\n",
    "    response.raise_for_status()\n",
    "    data = response.json()\n",
    "    return pd.DataFrame(data)"
   ]
  },
  {
   "cell_type": "markdown",
   "metadata": {},
   "source": [
    "## 1. BIMTRA (Banco de Informações de Movimento de Tráfego Aéreo)"
   ]
  },
  {
   "cell_type": "code",
   "execution_count": 8,
   "metadata": {},
   "outputs": [],
   "source": [
    "df = get_dados('bimtra')\n",
    "df.to_csv('Dados/bimtra.csv', index=False)"
   ]
  },
  {
   "cell_type": "markdown",
   "metadata": {},
   "source": [
    "## 2. CAT-62 (Dados de Síntese Radar)"
   ]
  },
  {
   "cell_type": "code",
   "execution_count": 69,
   "metadata": {},
   "outputs": [
    {
     "data": {
      "text/plain": [
       "92275"
      ]
     },
     "execution_count": 69,
     "metadata": {},
     "output_type": "execute_result"
    }
   ],
   "source": [
    "idate = '2022-06-01 00:00:00.000'\n",
    "fdate = '2022-06-01 23:00:00.000'\n",
    "base = 'cat-62'\n",
    "url = f'http://montreal.icea.decea.mil.br:5002/api/v1/{base}?token=a779d04f85c4bf6cfa586d30aaec57c44e9b7173&idate={idate}&fdate={fdate}'\n",
    "headers = {'token': 'a779d04f85c4bf6cfa586d30aaec57c44e9b7173'}\n",
    "response = requests.get(url,headers)\n",
    "response.raise_for_status()\n",
    "\n",
    "data = response.json()\n",
    "len(data)"
   ]
  },
  {
   "cell_type": "markdown",
   "metadata": {},
   "source": [
    "## 3. Esperas (Dados de Quantidades de Esperas em voo por hora)"
   ]
  },
  {
   "cell_type": "code",
   "execution_count": 20,
   "metadata": {},
   "outputs": [],
   "source": [
    "df = get_dados('esperas')\n",
    "df.to_csv('Dados/esperas.csv', index=False)"
   ]
  },
  {
   "cell_type": "markdown",
   "metadata": {},
   "source": [
    "## 4. METAF (Terminal Aerodrome Forecast)"
   ]
  },
  {
   "cell_type": "code",
   "execution_count": 19,
   "metadata": {},
   "outputs": [],
   "source": [
    "df = get_dados('metaf')\n",
    "df.to_csv('Dados/metaf.csv', index=False)"
   ]
  },
  {
   "cell_type": "markdown",
   "metadata": {},
   "source": [
    "## 5. METAR (Relatório Meteorológico de Aeródromo)"
   ]
  },
  {
   "cell_type": "code",
   "execution_count": 18,
   "metadata": {},
   "outputs": [],
   "source": [
    "df = get_dados('metar')\n",
    "df.to_csv('Dados/metar.csv', index=False)"
   ]
  },
  {
   "cell_type": "markdown",
   "metadata": {},
   "source": [
    "## 6. Satélite Meteorológico"
   ]
  },
  {
   "cell_type": "code",
   "execution_count": 17,
   "metadata": {},
   "outputs": [],
   "source": [
    "df = get_dados('satelite')\n",
    "df.to_csv('Dados/satelite.csv', index=False)"
   ]
  },
  {
   "cell_type": "markdown",
   "metadata": {},
   "source": [
    "## 7. Previsão da Troca de Cabeceiras de Aeródromo"
   ]
  },
  {
   "cell_type": "code",
   "execution_count": 16,
   "metadata": {},
   "outputs": [],
   "source": [
    "df = get_dados('tc-prev')\n",
    "df.to_csv('Dados/tc-prev.csv', index=False)"
   ]
  },
  {
   "cell_type": "markdown",
   "metadata": {},
   "source": [
    "## 8. Histórico da Troca de Cabeceiras de Aeródromo"
   ]
  },
  {
   "cell_type": "code",
   "execution_count": 15,
   "metadata": {},
   "outputs": [],
   "source": [
    "df = get_dados('tc-real')\n",
    "df.to_csv('Dados/tc-real.csv', index=False)"
   ]
  }
 ],
 "metadata": {
  "kernelspec": {
   "display_name": "Python 3",
   "language": "python",
   "name": "python3"
  },
  "language_info": {
   "codemirror_mode": {
    "name": "ipython",
    "version": 3
   },
   "file_extension": ".py",
   "mimetype": "text/x-python",
   "name": "python",
   "nbconvert_exporter": "python",
   "pygments_lexer": "ipython3",
   "version": "3.11.5"
  },
  "orig_nbformat": 4
 },
 "nbformat": 4,
 "nbformat_minor": 2
}
